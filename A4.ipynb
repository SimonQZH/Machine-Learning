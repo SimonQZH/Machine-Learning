{
 "cells": [
  {
   "cell_type": "code",
   "execution_count": 1,
   "id": "56d3558be68efe56",
   "metadata": {
    "ExecuteTime": {
     "end_time": "2024-03-04T01:11:14.441341Z",
     "start_time": "2024-03-04T01:11:12.611556Z"
    }
   },
   "outputs": [],
   "source": [
    "import pandas as pd\n",
    "import numpy as np\n",
    "import matplotlib.pyplot as plt\n",
    "%matplotlib inline\n",
    "from sklearn.metrics import accuracy_score, confusion_matrix\n",
    "from sklearn.tree import DecisionTreeClassifier\n",
    "from sklearn.ensemble import AdaBoostClassifier,RandomForestClassifier\n",
    "\n",
    "from collections import Counter\n",
    "import pickle\n",
    "import _pickle as cPickle\n",
    "from sklearn.preprocessing import MinMaxScaler,StandardScaler\n",
    "from lightgbm import LGBMClassifier\n",
    "from lightgbm import early_stopping\n",
    "from lightgbm import log_evaluation\n",
    "from optuna.trial import Trial\n",
    "import optuna\n",
    "import pandas as pd\n",
    "import numpy as np\n",
    "import matplotlib.pyplot as plt\n",
    "%matplotlib inline\n",
    "from sklearn.metrics import accuracy_score, confusion_matrix\n",
    "from sklearn.tree import DecisionTreeClassifier\n",
    "import lightgbm\n",
    "pd.set_option('use_inf_as_na', True)\n",
    "from collections import Counter\n",
    "import pickle\n",
    "\n",
    "import optuna\n",
    "from optuna.trial import Trial\n",
    "import optuna.integration.lightgbm as lgb\n",
    "\n",
    "\n",
    "from lightgbm import LGBMClassifier\n",
    "from lightgbm import early_stopping\n",
    "from lightgbm import log_evaluation\n",
    "import sklearn.datasets\n",
    "from sklearn.model_selection import train_test_split\n",
    "\n",
    "from functools import partial\n",
    "\n",
    "scaler = StandardScaler()"
   ]
  },
  {
   "cell_type": "code",
   "execution_count": 2,
   "id": "initial_id",
   "metadata": {
    "ExecuteTime": {
     "end_time": "2024-03-04T01:11:14.446536Z",
     "start_time": "2024-03-04T01:11:14.443144Z"
    }
   },
   "outputs": [],
   "source": [
    "with open(r'/Users/zhihongqiu/Downloads/Simon-Chicago/CHICAGO/Machine Learning/course_files_export/Lecture 13, Feb 20, 2024/Random Forest Parameters/shap_features.pkl','rb') as f:\n",
    "    shap_features_RF = cPickle.load(f)"
   ]
  },
  {
   "cell_type": "code",
   "execution_count": 3,
   "id": "29a1b335c3b06e1a",
   "metadata": {
    "ExecuteTime": {
     "end_time": "2024-03-04T01:11:14.961256Z",
     "start_time": "2024-03-04T01:11:14.954016Z"
    }
   },
   "outputs": [
    {
     "data": {
      "text/plain": [
       "[Index(['apq', 'cash_ratioq', 'cf_yield', 'oepsxy', 'rect_actq', 'prccq',\n",
       "        'cheq', 'roeq', 'book_value_yield', 'niq', 'lagseq4', 'dlttq', 'cfmq',\n",
       "        'txditcq', 'ibcomy'],\n",
       "       dtype='object'),\n",
       " Index(['cfmq', 'epspi12', 'oeps12', 'saleq', 'epsfi12', 'curr_ratioq',\n",
       "        'csh12q', 'market_cap', 'dvpspq', 'cfo-per-share', 'capeiq',\n",
       "        'fcf_yield', 'pe_incq', 'fcf_csfhdq', 'yearly_sales', 'oancfy',\n",
       "        'pay_turnq', 'lagicapt4', 'oancfy_q', 'prccq', 'lagppent_alt4',\n",
       "        'rd_saleq', 'cshfdq', 'beq', 'apq', 'cshprq', 'at_turnq', 'cf_yield',\n",
       "        'quick_ratioq', 'pe_exiq', 'dpcq', 'epsx12', 'actq', 'cash_debtq',\n",
       "        'cash_ltq', 'seq4', 'epspxq', 'oibdpy', 'ibadj12', 'pcfq', 'dltry',\n",
       "        'accrualq', 'ibq', 'at5', 'cshiq'],\n",
       "       dtype='object'),\n",
       " Index(['oepsxq', 'oeps12', 'yearly_sales', 'ibadj12', 'oiadpq',\n",
       "        'aftret_equityq', 'fqtr_4', 'atq', 'roeq', 'oancfy_q', 'cogsq', 'evmq',\n",
       "        'opepsq', 'ceqq', 'lagseq4', 'pe_op_basicq', 'lagppent4', 'fcf_yield',\n",
       "        'bmq', 'cash_ratioq', 'epspxq', 'opcfq', 'debt_invcapq', 'piq',\n",
       "        'inv_turnq', 'rect_actq', 'pe_exiq', 'lctq', 'epspiq',\n",
       "        'book_value_yield', 'epspi12', 'rect_turnq', 'equity_invcapq', 'ibadjq',\n",
       "        'pe_op_dilq', 'be4', 'dvpspq', 'revty', 'oancfy', 'ceq4', 'oepf12'],\n",
       "       dtype='object'),\n",
       " Index(['cf_yield', 'oancfy_q', 'opepsq', 'fcf_yield', 'capeiq', 'cash_ratioq',\n",
       "        'oepf12', 'pe_op_basicq', 'oancfy', 'oepsxy',\n",
       "        ...\n",
       "        'beq', 'txditcq', 'icaptq', 'opmadq', 'totdebt_invcapq', 'int_debtq',\n",
       "        'ibadj12', 'aftret_invcapxq', 'sale_nwcq', 'psq'],\n",
       "       dtype='object', length=111),\n",
       " Index(['cash_ltq', 'oepf12', 'fcf_yield', 'cfo-per-share', 'curr_ratioq',\n",
       "        'capeiq', 'epsfiq', 'cf_yield', 'epspiq', 'oepsxq', 'cash_ratioq',\n",
       "        'oancfy_q', 'cogsq', 'yearly_sales', 'epsf12', 'epsfxq', 'dlttq',\n",
       "        'fcf_csfhdq', 'at5', 'oeps12', 'ptpmq', 'at4', 'epsfi12', 'atq', 'apq',\n",
       "        'rectq', 'rect_turnq', 'pretret_earnatq', 'book_value_yield', 'evmq',\n",
       "        'sale_invcapq', 'pe_op_dilq', 'xrdy', 'dprq', 'xrdq', 'ibcomq', 'cfmq',\n",
       "        'debt_capitalq', 'niq', 'pe_op_basicq', 'ibcq', 'roceq',\n",
       "        'cash_conversionq', 'cshiq', 'piq', 'oancfy', 'lagppent4', 'prccq',\n",
       "        'quick_ratioq', 'ibadj12', 'ibcomy', 'xsgaq', 'ceq4', 'cheq',\n",
       "        'fcf_ocfq', 'dltry', 'oiadpq', 'aftret_eqq', 'cshfdq',\n",
       "        'book_value_per_share', 'txtq', 'cshprq', 'ibadjq', 'xsgay', 'capxy',\n",
       "        'cstkq', 'int_totdebtq', 'dpcq', 'beq', 'profit_lctq', 'ibcy',\n",
       "        'market_cap', 'totdebt_invcapq', 'lagseq4', 'dltt_beq', 'epsx12',\n",
       "        'capxq', 'dvpspq', 'xoprq', 'rect_actq', 'opmadq', 'lagicapt4',\n",
       "        'epspi12', 'equity_invcapq', 'pay_turnq', 'xidoy', 'be4',\n",
       "        'capital_ratioq', 'dvy', 'gprofq', 'rd_saleq', 'saleq', 'req', 'actq',\n",
       "        'debt_invcapq', 'pretret_noaq', 'lt_ppentq', 'ppentq',\n",
       "        'aftret_invcapxq'],\n",
       "       dtype='object'),\n",
       " Index(['de_ratioq', 'cf_yield', 'epsx12', 'xrdy', 'dlttq', 'book_value_yield',\n",
       "        'fcf_yield', 'beq', 'xsgaq', 'cfmq', 'ibadj12', 'xsgay', 'oepsxy',\n",
       "        'at4', 'fcf_ocfq', 'pe_exiq', 'profit_lctq'],\n",
       "       dtype='object'),\n",
       " Index(['epsfxq', 'fcf_yield', 'cfo-per-share', 'xsgay', 'opcfq',\n",
       "        'book_value_per_share', 'cash_ratioq', 'equity_invcapq', 'epsfi12',\n",
       "        'dvq', 'dlttq', 'yearly_sales', 'cash_ltq', 'epspi12', 'cshoq', 'invtq',\n",
       "        'aftret_eqq', 'aftret_equityq', 'revty', 'ppentq', 'market_cap',\n",
       "        'rectq', 'debt_atq', 'xinty', 'debt_assetsq', 'lctq', 'pretret_earnatq',\n",
       "        'book_value_yield', 'roceq', 'at4', 'lagppent4', 'cshprq', 'cf_yield',\n",
       "        'epspiq', 'evmq', 'oepsxy', 'curr_debtq', 'ibadjq', 'sale_equityq',\n",
       "        'epsfiq', 'seq4', 'ibcomy', 'cogsy', 'txtq', 'pcfq', 'lagppent_alt4',\n",
       "        'dltisy', 'dltt_beq', 'dpq'],\n",
       "       dtype='object'),\n",
       " Index(['dlttq', 'epsfxq', 'lt_ppentq', 'epspxq', 'ceqq', 'epsf12', 'dvy',\n",
       "        'nopiq', 'gprofq', 'ltq', 'lagbe4', 'epspi12', 'oancfy_q'],\n",
       "       dtype='object'),\n",
       " Index(['epsfi12', 'pe_exiq', 'book_value_per_share', 'gpmq', 'epspxq', 'opcfq',\n",
       "        'epsfiq', 'epspiq', 'cash_ratioq', 'int_totdebtq', 'cf_yield', 'opmbdq',\n",
       "        'cash_debtq', 'curr_debtq', 'oancfy_q', 'yearly_sales', 'opmadq', 'apq',\n",
       "        'ibcomq', 'xrdq', 'oeps12', 'accrualq', 'npmq', 'epsx12',\n",
       "        'debt_assetsq', 'roeq', 'xinty', 'chechy', 'txpq', 'cstkq',\n",
       "        'aftret_invcapxq', 'pay_turnq', 'pretret_earnatq', 'ocf_lctq', 'ibcomy',\n",
       "        'xintq'],\n",
       "       dtype='object'),\n",
       " Index(['cf_yield', 'cfo-per-share', 'fcf_yield', 'epsfxq', 'ptpmq', 'epspxq',\n",
       "        'oepsxq', 'book_value_per_share', 'oancfy_q', 'epsfiq',\n",
       "        ...\n",
       "        'fqtr_1', 'cash_debtq', 'aftret_invcapxq', 'evmq', 'opepsq', 'csh12q',\n",
       "        'dltisy', 'cash_conversionq', 'dltry', 'debt_atq'],\n",
       "       dtype='object', length=105),\n",
       " Index(['beq', 'curr_debtq', 'oancfy_q', 'oancfy', 'intcov_ratioq',\n",
       "        'debt_invcapq', 'seqq', 'dvpspq', 'epsfxq', 'dvq', 'fcf_csfhdq',\n",
       "        'book_value_yield', 'efftaxq', 'dpcq', 'actq', 'psq', 'at4', 'oibdpy'],\n",
       "       dtype='object'),\n",
       " Index(['fcf_yield', 'oancfy_q', 'epspi12', 'roeq', 'dltisy', 'ibq',\n",
       "        'cfo-per-share', 'oepsxq', 'aftret_eqq', 'capeiq',\n",
       "        ...\n",
       "        'roceq', 'ibcy', 'profit_lctq', 'dvy', 'accrualq', 'opmadq', 'oancfy',\n",
       "        'efftaxq', 'niq', 'prccq'],\n",
       "       dtype='object', length=137),\n",
       " Index(['ibadj12', 'ibcy', 'oancfy', 'epspxq', 'cf_yield', 'book_value_yield',\n",
       "        'epspi12', 'xsgay', 'de_ratioq', 'saleq',\n",
       "        ...\n",
       "        'epsx12', 'book_value_per_share', 'psq', 'ceq4', 'profit_lctq',\n",
       "        'aftret_eqq', 'req', 'cshfdq', 'cshiq', 'market_cap'],\n",
       "       dtype='object', length=144),\n",
       " Index(['cfo-per-share', 'oancfy_q', 'niq', 'bmq', 'oiadpq', 'oepsxq',\n",
       "        'lt_ppentq', 'revtq', 'fcf_csfhdq', 'cash_ltq', 'buy_back_yield',\n",
       "        'debt_atq', 'epsfi12', 'capxy', 'opepsq', 'int_totdebtq', 'dpq',\n",
       "        'opcfq', 'cash_ratioq', 'cf_yield', 'npmq', 'epsfxq', 'dltry', 'oeps12',\n",
       "        'actq', 'oancfy', 'debt_ebitdaq', 'lagppent4', 'ltq', 'pretret_earnatq',\n",
       "        'ibcomy', 'gpmq', 'rect_turnq', 'dpcy', 'curr_debtq', 'roaq',\n",
       "        'short_debtq', 'dvy', 'pe_incq', 'prcraq', 'debt_capitalq', 'dprq',\n",
       "        'pretret_noaq', 'evmq', 'gprofq', 'market_cap', 'rd_saleq',\n",
       "        'aftret_equityq', 'dvpspq', 'intcov_ratioq', 'ibadjq', 'csh12q', 'miiq',\n",
       "        'invt_actq', 'at4', 'pay_turnq', 'epspiq', 'lt_debtq', 'cshfdq', 'dlcq',\n",
       "        'invtq', 'cogsq', 'opmbdq', 'pcfq', 'cshoq', 'epsfiq', 'oepsxy',\n",
       "        'xintq', 'apq', 'capital_ratioq', 'ibadj12', 'lagicapt4', 'beq',\n",
       "        'equity_invcapq', 'rect_actq', 'cash_conversionq', 'txtq', 'xsgay',\n",
       "        'debt_invcapq', 'dltt_beq', 'xsgaq', 'ceq4', 'rectq'],\n",
       "       dtype='object'),\n",
       " Index(['oancfy_q', 'lt_ppentq', 'oancfy', 'opcfq', 'revty', 'fcf_yield',\n",
       "        'cf_yield', 'oepsxy', 'niq', 'oiadpq',\n",
       "        ...\n",
       "        'beq', 'capxq', 'ceqq', 'opmadq', 'dpcy', 'pretret_earnatq', 'cogsq',\n",
       "        'capital_ratioq', 'xintq', 'invt_actq'],\n",
       "       dtype='object', length=126),\n",
       " Index(['debt_assetsq', 'opcfq', 'cash_conversionq', 'revty', 'lagbe4',\n",
       "        'fcf_csfhdq', 'roeq', 'oepf12', 'ibadjq', 'dpcy', 'opmadq', 'fcf_yield',\n",
       "        'oepsxy', 'rectq', 'epspiq', 'cfo-per-share', 'cf_yield', 'xsgay',\n",
       "        'oancfy', 'chechy', 'epsfiq', 'lt_ppentq', 'epsfxq', 'be4', 'ibcy',\n",
       "        'opepsq', 'book_value_per_share', 'ibcomy', 'lagicapt4', 'xintq',\n",
       "        'txtq', 'curr_debtq', 'dprq', 'pay_turnq', 'dvy', 'cogsq',\n",
       "        'int_totdebtq', 'npmq', 'lctq', 'oepsxq', 'sale_equityq', 'cshoq',\n",
       "        'epspxq', 'totdebt_invcapq', 'gprofq', 'revtq', 'niq', 'gpmq',\n",
       "        'debt_ebitdaq', 'prcraq', 'int_debtq', 'fqtr_3', 'lagseq4', 'cshopq',\n",
       "        'cash_ratioq', 'dltry', 'dlttq', 'oibdpy', 'quick_ratioq',\n",
       "        'pe_op_basicq', 'intcovq', 'bmq', 'pe_incq', 'icaptq', 'dlcq', 'epsx12',\n",
       "        'profit_lctq', 'seq4', 'atq', 'oancfy_q', 'debt_invcapq', 'rect_actq',\n",
       "        'yearly_sales', 'psq', 'equity_invcapq', 'ceqq', 'xsgaq', 'at5', 'ibcq',\n",
       "        'req', 'cogsy', 'cheq', 'capital_ratioq', 'oiadpq', 'invtq', 'dvpspq',\n",
       "        'pretret_noaq', 'beq'],\n",
       "       dtype='object'),\n",
       " Index(['oancfy_q', 'fcf_csfhdq', 'ibcomy', 'lt_ppentq', 'oepsxy', 'opcfq',\n",
       "        'lagppent4', 'oancfy', 'ibadjq', 'fcf_yield',\n",
       "        ...\n",
       "        'pay_turnq', 'curr_debtq', 'seqq', 'lagseq4', 'npmq', 'miiq',\n",
       "        'lagicapt4', 'inv_turnq', 'cstkq', 'lt_debtq'],\n",
       "       dtype='object', length=117),\n",
       " Index(['cfo-per-share', 'niq', 'totdebt_invcapq', 'oancfy_q', 'opepsq',\n",
       "        'lt_ppentq', 'cash_conversionq', 'epsfxq', 'lagbe4', 'oancfy', 'at5',\n",
       "        'oibdpy', 'chechy', 'epspxq', 'dpcy', 'rectq', 'lagppent_alt4',\n",
       "        'epspiq', 'debt_assetsq', 'lagseq4', 'ibadjq', 'pretret_noaq', 'ibcy',\n",
       "        'dpcq', 'gprofq', 'epsfiq', 'cfmq', 'rect_turnq', 'debt_invcapq',\n",
       "        'cf_yield', 'inv_turnq', 'atq', 'miiq', 'revty', 'dlcq', 'bmq', 'be4',\n",
       "        'accrualq', 'pretret_earnatq', 'ibcq', 'debt_atq', 'prcraq', 'txpdy',\n",
       "        'ibcomy', 'lt_debtq', 'opcfq', 'psq', 'xoprq', 'cash_ltq', 'roceq',\n",
       "        'lctq4', 'opmadq', 'equity_invcapq', 'dvq', 'at4', 'cshfdq', 'evmq',\n",
       "        'xsgaq', 'pe_exiq', 'capxq', 'epsf12', 'ppentq', 'at_turnq', 'fcf_ocfq',\n",
       "        'dltt_beq', 'prccq', 'quick_ratioq', 'xsgay', 'invt_actq', 'pe_op_dilq',\n",
       "        'yearly_sales', 'csh12q', 'saleq', 'dprq', 'roaq', 'oeps12', 'ptpmq',\n",
       "        'piq', 'oepsxy', 'roeq', 'pay_turnq', 'ibq', 'dltisy', 'epsx12',\n",
       "        'xintq', 'epsfi12', 'capeiq'],\n",
       "       dtype='object'),\n",
       " Index(['totdebt_invcapq', 'oancfy', 'quick_ratioq', 'debt_assetsq',\n",
       "        'lagppent_alt4', 'lt_ppentq', 'cf_yield', 'fcf_csfhdq', 'epsx12',\n",
       "        'intcovq', 'epsfxq', 'rect_turnq', 'opmbdq', 'profit_lctq', 'txpq',\n",
       "        'cfo-per-share', 'epspiq', 'pretret_earnatq', 'rect_actq', 'inv_turnq',\n",
       "        'ibadjq', 'cash_ltq', 'evmq', 'fqtr_2', 'oancfy_q', 'de_ratioq',\n",
       "        'at_turnq', 'at5', 'oepsxy', 'book_value_yield', 'ibcy', 'icaptq',\n",
       "        'fcf_yield', 'cash_conversionq', 'opcfq', 'opmadq', 'pay_turnq', 'dvy',\n",
       "        'miiy', 'revty', 'capital_ratioq', 'lctq4', 'debt_capitalq', 'chechy',\n",
       "        'ibcomy', 'roeq', 'cash_ratioq', 'pe_op_basicq', 'ibcomq', 'dltisy',\n",
       "        'oeps12', 'lagicapt4', 'dlttq', 'ppentq', 'curr_ratioq', 'lagppent4',\n",
       "        'atq', 'seqq', 'cogsq', 'oepsxq', 'bmq', 'gprofq', 'equity_invcapq',\n",
       "        'actq', 'revtq', 'roceq', 'niq', 'accrualq', 'ceqq', 'oepf12', 'capxy',\n",
       "        'npmq', 'pe_exiq', 'xsgaq', 'saleq', 'aftret_eqq', 'psq', 'dvq',\n",
       "        'invt_actq', 'ibadj12', 'dvpspq', 'oiadpq', 'lctq', 'pe_op_dilq',\n",
       "        'xoprq', 'ceq4', 'lt_debtq', 'cfmq', 'capeiq', 'dltt_beq', 'cogsy',\n",
       "        'piq', 'prccq'],\n",
       "       dtype='object'),\n",
       " Index(['oancfy', 'ibcomy', 'fcf_yield', 'lctq4', 'fqtr_2', 'ibadjq',\n",
       "        'inv_turnq', 'lctq', 'oepsxq', 'actq', 'dltt_beq', 'opcfq', 'nopiq',\n",
       "        'lt_ppentq', 'be4', 'xoprq', 'dvpspq', 'oancfy_q', 'ibcomq', 'oibdpy',\n",
       "        'dprq', 'at4', 'pretret_earnatq', 'aftret_eqq', 'rect_actq', 'beq',\n",
       "        'gpmq', 'cf_yield', 'evmq', 'epsfxq', 'de_ratioq',\n",
       "        'book_value_per_share', 'revty', 'at5', 'profit_lctq', 'dpq', 'intcovq',\n",
       "        'rect_turnq', 'accrualq', 'atq', 'req', 'fcf_ocfq', 'ocf_lctq', 'saleq',\n",
       "        'pretret_noaq', 'debt_invcapq', 'gprofq', 'oepsxy', 'ibcq', 'cshfdq',\n",
       "        'seqq', 'chechy', 'cogsq', 'dlcq', 'book_value_yield', 'bmq',\n",
       "        'int_debtq', 'capxq', 'xrdy', 'npmq', 'txpdy', 'dltisy',\n",
       "        'aftret_equityq', 'dpcy', 'opmadq', 'cstkq', 'cash_ratioq', 'niq',\n",
       "        'psq', 'ibcy', 'market_cap', 'cash_debtq', 'equity_invcapq',\n",
       "        'lagppent_alt4', 'sale_nwcq', 'xintq', 'txtq', 'dvpq', 'epspxq', 'cfmq',\n",
       "        'pe_exiq', 'epsfi12', 'ibadj12', 'debt_ebitdaq', 'epspiq', 'lagbe4',\n",
       "        'sale_invcapq', 'ceqq', 'roaq'],\n",
       "       dtype='object'),\n",
       " Index(['cf_yield', 'cfo-per-share', 'revty', 'piq', 'oepsxy', 'debt_ebitdaq',\n",
       "        'dvpspq', 'intcovq', 'de_ratioq', 'int_debtq', 'oancfy', 'cstkq',\n",
       "        'oancfy_q', 'lagppent_alt4', 'pretret_noaq', 'seqq', 'lctq4', 'dlcq',\n",
       "        'debt_assetsq', 'niq', 'rect_turnq', 'intcov_ratioq', 'sale_nwcq',\n",
       "        'equity_invcapq', 'capeiq', 'ibadjq', 'fcf_yield', 'ltq', 'dvy', 'psq',\n",
       "        'opmadq', 'roceq', 'inv_turnq', 'ibcomq', 'opcfq', 'totdebt_invcapq',\n",
       "        'ibcomy', 'roaq', 'lctq', 'ppentq', 'dprq', 'apq', 'chechy',\n",
       "        'pe_op_basicq', 'mibq', 'capxq', 'req', 'epspiq', 'lagppent4',\n",
       "        'cash_conversionq', 'beq', 'pretret_earnatq', 'capital_ratioq', 'ptpmq',\n",
       "        'prccq', 'yearly_sales', 'xsgaq', 'opepsq', 'evmq', 'oepsxq',\n",
       "        'accrualq', 'cshprq', 'ibcy', 'be4', 'book_value_per_share'],\n",
       "       dtype='object'),\n",
       " Index(['fcf_yield', 'oancfy', 'ibcomy', 'cf_yield', 'oancfy_q', 'oepsxy',\n",
       "        'fqtr_3', 'curr_debtq', 'ocf_lctq', 'lctq', 'lt_ppentq', 'actq',\n",
       "        'book_value_per_share', 'roeq', 'be4', 'fcf_csfhdq', 'dpcy', 'ibcy',\n",
       "        'oibdpy', 'epsf12', 'debt_atq', 'opcfq', 'pretret_noaq', 'capeiq',\n",
       "        'chechy', 'book_value_yield', 'txpq', 'at_turnq', 'accrualq',\n",
       "        'rect_actq', 'fqtr_2', 'lagbe4', 'evmq', 'pretret_earnatq', 'sale_nwcq',\n",
       "        'epsfi12', 'revty', 'rect_turnq', 'apq', 'dpcq', 'cfo-per-share',\n",
       "        'aftret_invcapxq', 'totdebt_invcapq', 'txditcq', 'dvy', 'seq4', 'roceq',\n",
       "        'dvpspq', 'intcovq', 'ibadjq', 'opepsq', 'capital_ratioq', 'inv_turnq',\n",
       "        'fqtr_4', 'lagppent_alt4', 'int_totdebtq', 'bmq', 'pcfq', 'lagppent4',\n",
       "        'curr_ratioq', 'debt_assetsq', 'market_cap', 'dvq', 'dprq',\n",
       "        'debt_ebitdaq', 'dlcq', 'lctq4', 'xoprq', 'npmq', 'cogsq', 'opmadq'],\n",
       "       dtype='object'),\n",
       " Index(['rectq', 'fcf_yield', 'ibcomq', 'book_value_per_share', 'accrualq',\n",
       "        'epspi12', 'intcovq', 'lagseq4', 'xsgaq'],\n",
       "       dtype='object'),\n",
       " Index(['totdebt_invcapq', 'intcovq', 'oancfy_q', 'fcf_csfhdq', 'lctq4', 'dpq',\n",
       "        'debt_assetsq', 'oibdpy', 'actq', 'quick_ratioq', 'roceq', 'spiq',\n",
       "        'lagppent_alt4', 'sale_equityq', 'fqtr_2', 'rect_turnq', 'fcf_ocfq',\n",
       "        'beq', 'bmq', 'rect_actq', 'profit_lctq', 'roeq', 'dprq', 'lagppent4',\n",
       "        'cheq', 'debt_capitalq', 'at5', 'opcfq', 'cash_ltq'],\n",
       "       dtype='object'),\n",
       " Index(['lagppent_alt4', 'cf_yield', 'fcf_yield', 'pretret_earnatq', 'oancfy',\n",
       "        'teqq', 'dlttq', 'pe_op_dilq', 'dltisy', 'chechy', 'intcovq',\n",
       "        'cfo-per-share', 'debt_assetsq', 'market_cap', 'evmq', 'fcf_ocfq',\n",
       "        'intcov_ratioq', 'quick_ratioq', 'opcfq', 'debt_ebitdaq',\n",
       "        'book_value_yield', 'dltt_beq', 'bmq', 'capxq', 'epspi12', 'lt_ppentq',\n",
       "        'sale_invcapq', 'rect_actq', 'ocf_lctq', 'nopiq', 'pcfq', 'cshiq',\n",
       "        'req', 'oibdpq', 'epsfiq', 'dpcy', 'ptpmq', 'gprofq', 'dpcq',\n",
       "        'accrualq', 'debt_invcapq', 'revty', 'csh12q'],\n",
       "       dtype='object'),\n",
       " Index(['cash_debtq', 'beq', 'ibcomy', 'lt_ppentq', 'txpdy', 'oancfy', 'dltisy',\n",
       "        'cash_ltq', 'xrdq', 'epsfi12', 'dpq', 'ptpmq', 'be4', 'cf_yield',\n",
       "        'book_value_per_share', 'yearly_sales', 'cshfdq', 'cogsq', 'capeiq',\n",
       "        'int_debtq', 'optdrq', 'roaq', 'ocf_lctq', 'lctq4', 'debt_capitalq',\n",
       "        'oepf12', 'de_ratioq', 'revtq'],\n",
       "       dtype='object'),\n",
       " Index(['fqtr_2', 'fcf_ocfq', 'fcf_csfhdq', 'opcfq', 'book_value_yield',\n",
       "        'oancfy_q', 'fcf_yield', 'debt_ebitdaq', 'chechy', 'pcfq', 'accrualq',\n",
       "        'market_cap', 'bmq', 'epspxq', 'xoprq', 'dpcy', 'sale_nwcq', 'teqq',\n",
       "        'int_debtq', 'piq', 'dprq', 'int_totdebtq', 'roceq', 'fqtr_4', 'csh12q',\n",
       "        'capxy', 'aftret_invcapxq', 'ocf_lctq', 'ibcy', 'lt_ppentq',\n",
       "        'sector_code_850.0', 'cshiq', 'oancfy', 'pe_op_basicq', 'cf_yield',\n",
       "        'cshopq', 'invtq', 'at_turnq', 'evmq', 'ltq', 'cshprq', 'cfmq', 'atq',\n",
       "        'pretret_noaq', 'capeiq', 'ibcq', 'gprofq', 'dlcq', 'epsx12', 'dpcq',\n",
       "        'roaq', 'oiadpq', 'yearly_sales', 'cfo-per-share', 'ibadj12', 'oepsxy',\n",
       "        'cash_conversionq', 'epsfi12', 'debt_assetsq', 'at4', 'cogsy', 'revtq',\n",
       "        'cshoq', 'ptpmq', 'ceq4', 'opmadq', 'optdrq', 'ibq', 'cash_ltq', 'gpmq',\n",
       "        'xsgay', 'oeps12', 'curr_ratioq', 'be4', 'rect_actq', 'debt_atq',\n",
       "        'aftret_eqq', 'prccq', 'capital_ratioq', 'debt_capitalq', 'curr_debtq',\n",
       "        'capxq', 'dltt_beq', 'seq4', 'ibadjq', 'epsf12', 'roeq', 'short_debtq',\n",
       "        'dvy', 'dltry', 'lagseq4', 'inv_turnq', 'lagppent4', 'dltisy', 'npmq',\n",
       "        'quick_ratioq'],\n",
       "       dtype='object'),\n",
       " Index(['oepf12', 'dprq', 'cfo-per-share', 'cshprq', 'aftret_equityq', 'txtq',\n",
       "        'cheq', 'cash_debtq', 'revtq', 'gprofq', 'lagicapt4', 'prcraq', 'niq',\n",
       "        'oibdpq', 'xsgaq', 'icaptq', 'lagppent_alt4', 'capxy', 'sale_equityq'],\n",
       "       dtype='object'),\n",
       " Index(['cash_debtq', 'cheq', 'fqtr_2', 'ocf_lctq', 'niq', 'ibcomq', 'dpcy',\n",
       "        'ibadjq', 'teqq', 'roceq', 'icaptq', 'oancfy_q', 'revty',\n",
       "        'sale_equityq', 'fqtr_4', 'be4', 'inv_turnq', 'book_value_yield',\n",
       "        'pe_exiq', 'ibcy', 'roeq', 'short_debtq', 'intcovq', 'lagicapt4', 'ibq',\n",
       "        'opmbdq', 'xsgay', 'dprq', 'cash_conversionq', 'dvy', 'intcov_ratioq',\n",
       "        'buy_back_yield', 'oancfy', 'lagbe4', 'ibcq', 'debt_atq', 'dvpspq',\n",
       "        'xrdy', 'int_debtq', 'lt_debtq', 'opmadq', 'at4', 'lagppent_alt4',\n",
       "        'txditcq', 'lctq4', 'pe_incq', 'dlcq', 'pretret_earnatq'],\n",
       "       dtype='object'),\n",
       " Index(['fcf_yield', 'fcf_ocfq', 'teqq', 'curr_ratioq', 'oancfy', 'atq', 'apq',\n",
       "        'cash_debtq', 'opcfq', 'dltt_beq', 'at5', 'pretret_earnatq', 'dvpspq',\n",
       "        'pe_op_dilq', 'icaptq', 'ibcomq', 'cfmq', 'pay_turnq', 'dvq',\n",
       "        'ocf_lctq', 'lt_debtq', 'lagppent_alt4', 'dpcq', 'accrualq'],\n",
       "       dtype='object'),\n",
       " Index(['fcf_yield', 'dvq', 'pay_turnq', 'cf_yield', 'gpmq', 'revty', 'fqtr_2',\n",
       "        'atq', 'capxy', 'niq',\n",
       "        ...\n",
       "        'debt_ebitdaq', 'rd_saleq', 'profit_lctq', 'cheq', 'sale_nwcq', 'dlcq',\n",
       "        'npmq', 'pretret_earnatq', 'cash_ltq', 'debt_atq'],\n",
       "       dtype='object', length=105),\n",
       " Index(['ceqq', 'rectq', 'ibq', 'efftaxq', 'profit_lctq', 'int_totdebtq',\n",
       "        'xsgaq', 'cstkq', 'lagppent_alt4', 'txpdy', 'cash_ltq', 'dlcq', 'dltry',\n",
       "        'invtq', 'chechy', 'inv_turnq', 'opepsq', 'book_value_yield',\n",
       "        'cfo-per-share', 'oeps12', 'capeiq', 'totdebt_invcapq', 'actq',\n",
       "        'market_cap', 'saleq', 'spiq', 'gpmq', 'ceq4', 'intcov_ratioq'],\n",
       "       dtype='object'),\n",
       " Index(['lagseq4', 'fqtr_4', 'oancfy', 'oancfy_q', 'oibdpq', 'txtq', 'lt_debtq',\n",
       "        'rectq', 'fcf_yield', 'market_cap',\n",
       "        ...\n",
       "        'psq', 'spcsrc_B-', 'lt_ppentq', 'at5', 'cstkq', 'rd_saleq', 'at4',\n",
       "        'pretret_noaq', 'book_value_yield', 'dprq'],\n",
       "       dtype='object', length=119),\n",
       " Index(['oancfy', 'oancfy_q', 'gpmq', 'fcf_csfhdq', 'cshoq', 'sale_equityq',\n",
       "        'opmbdq', 'lagseq4', 'buy_back_yield', 'revty', 'capxy', 'fcf_yield',\n",
       "        'lt_ppentq', 'pay_turnq', 'dlttq', 'ibcomy', 'req', 'xoprq',\n",
       "        'aftret_invcapxq', 'xsgaq', 'cshiq', 'ceqq', 'txditcq', 'sale_nwcq',\n",
       "        'short_debtq', 'rectq', 'at_turnq', 'oeps12', 'cash_conversionq',\n",
       "        'rect_turnq', 'dltry', 'evmq', 'ibcomq', 'oibdpq', 'cshopq',\n",
       "        'lagicapt4', 'cfmq', 'inv_turnq', 'cash_debtq', 'dltt_beq', 'txtq',\n",
       "        'dpq', 'cstkq', 'equity_invcapq', 'dpcy', 'opcfq', 'roaq', 'cogsy',\n",
       "        'xinty', 'xintq', 'epsf12', 'book_value_yield', 'de_ratioq',\n",
       "        'rect_actq', 'be4', 'ocf_lctq', 'dpcq', 'invtq', 'debt_assetsq',\n",
       "        'invt_actq', 'int_debtq', 'dltisy', 'lt_debtq', 'ppentq', 'miiy',\n",
       "        'actq', 'psq', 'oepsxy', 'spiq', 'ltq', 'profit_lctq', 'saleq',\n",
       "        'cash_ratioq', 'fcf_ocfq', 'pe_incq', 'ptpmq', 'teqq', 'xrdq', 'lctq4',\n",
       "        'accrualq', 'roceq', 'intcov_ratioq', 'efftaxq', 'dprq', 'sale_invcapq',\n",
       "        'epspxq', 'yearly_sales', 'ibcy', 'epspi12'],\n",
       "       dtype='object'),\n",
       " Index(['oancfy_q', 'oancfy', 'dvpspq', 'fcf_csfhdq', 'xinty', 'prcraq',\n",
       "        'lctq4', 'capital_ratioq', 'prccq', 'sic_6798', 'rectq', 'optdrq',\n",
       "        'ppentq', 'niq', 'ceq4', 'xsgay', 'ibcy', 'cash_conversionq',\n",
       "        'fcf_yield', 'fqtr_3', 'dpcq', 'lagppent4', 'be4', 'cshoq', 'ibq',\n",
       "        'equity_invcapq', 'debt_invcapq', 'int_debtq', 'fcf_ocfq', 'teqq',\n",
       "        'rect_actq', 'de_ratioq', 'cshfdq', 'lt_debtq', 'lt_ppentq', 'at4',\n",
       "        'cshopq', 'ltq', 'profit_lctq', 'dprq', 'gprofq', 'icaptq',\n",
       "        'sale_invcapq', 'cogsy', 'cash_ltq', 'txditcq', 'buy_back_yield',\n",
       "        'oibdpq', 'curr_ratioq', 'short_debtq', 'totdebt_invcapq', 'seqq',\n",
       "        'ocf_lctq', 'npmq', 'roaq', 'dpcy', 'oibdpy', 'xsgaq', 'opcfq',\n",
       "        'opmbdq', 'debt_atq', 'apq', 'epsx12', 'sale_equityq', 'yearly_sales',\n",
       "        'epsf12', 'revtq', 'book_value_per_share', 'dltt_beq', 'xintq', 'dvq',\n",
       "        'dpq', 'pe_exiq', 'atq', 'epsfiq', 'rd_saleq', 'seq4', 'inv_turnq',\n",
       "        'at_turnq', 'at5', 'roceq', 'miiy', 'lagbe4', 'capxq',\n",
       "        'book_value_yield', 'pcfq', 'req', 'oepsxy', 'oepsxq', 'fqtr_1'],\n",
       "       dtype='object'),\n",
       " Index(['oancfy', 'fcf_yield', 'rectq', 'int_debtq', 'apq', 'rect_turnq',\n",
       "        'oancfy_q', 'seqq', 'pcfq', 'lt_debtq', 'dpcy', 'revtq', 'opmbdq',\n",
       "        'oibdpq', 'capxy', 'npmq', 'dvq', 'opmadq', 'dltt_beq', 'at_turnq',\n",
       "        'ibcq', 'xsgaq', 'cogsy', 'xinty', 'oepsxq', 'sale_equityq',\n",
       "        'lt_ppentq', 'accrualq', 'fcf_csfhdq', 'xoprq', 'debt_invcapq',\n",
       "        'epsx12', 'cheq', 'pay_turnq', 'dvy', 'dvpspq', 'dprq', 'cf_yield',\n",
       "        'dlcq', 'dlttq', 'xintq', 'icaptq', 'ibcomy', 'curr_debtq', 'csh12q',\n",
       "        'capital_ratioq', 'opcfq', 'cogsq', 'spcsrc_B-', 'cshprq', 'roceq',\n",
       "        'ltq', 'pretret_earnatq', 'at4', 'book_value_per_share', 'debt_assetsq',\n",
       "        'niq', 'dpcq', 'epsfi12', 'revty', 'nopiq', 'lagicapt4', 'quick_ratioq',\n",
       "        'cstkq', 'evmq', 'actq', 'ocf_lctq', 'fcf_ocfq', 'ceq4', 'ptpmq',\n",
       "        'xsgay', 'sale_nwcq', 'seq4', 'prccq', 'buy_back_yield', 'int_totdebtq',\n",
       "        'at5', 'dltry', 'inv_turnq', 'cash_conversionq', 'teqq', 'beq',\n",
       "        'debt_capitalq', 'gprofq', 'pe_op_basicq', 'dpq', 'pe_exiq',\n",
       "        'equity_invcapq', 'gpmq', 'opepsq', 'capxq', 'cash_ltq', 'pretret_noaq',\n",
       "        'saleq', 'rect_actq', 'txditcq', 'intcov_ratioq', 'oeps12'],\n",
       "       dtype='object'),\n",
       " Index(['epspiq', 'de_ratioq', 'oancfy_q', 'seq4', 'int_totdebtq', 'xinty',\n",
       "        'ptpmq', 'capxy', 'epspxq', 'oiadpq',\n",
       "        ...\n",
       "        'equity_invcapq', 'icaptq', 'revty', 'opcfq', 'csh12q', 'xsgaq',\n",
       "        'debt_assetsq', 'epsf12', 'cfmq', 'dlttq'],\n",
       "       dtype='object', length=108),\n",
       " Index(['fcf_ocfq', 'sale_equityq', 'fcf_yield', 'intcovq', 'dvpspq', 'opmbdq',\n",
       "        'fqtr_3', 'fcf_csfhdq', 'oancfy_q', 'piq', 'dvy', 'epsfiq', 'cash_ltq',\n",
       "        'pay_turnq', 'rect_turnq', 'epspi12', 'ceqq', 'oancfy', 'ptpmq',\n",
       "        'gprofq', 'apq', 'pcfq', 'roceq', 'opepsq', 'epspiq', 'lt_ppentq',\n",
       "        'revty', 'oepsxq', 'capxq', 'xintq', 'equity_invcapq', 'at4', 'cshiq',\n",
       "        'dprq', 'cshfdq', 'txdbq', 'dvq', 'rectq', 'evmq', 'req', 'fqtr_1',\n",
       "        'int_debtq', 'sale_nwcq', 'npmq', 'cogsy', 'xinty', 'aftret_equityq',\n",
       "        'capxy', 'dltt_beq', 'ltq', 'oepsxy', 'epsfxq', 'debt_assetsq',\n",
       "        'short_debtq', 'txpdy', 'cshoq', 'dpcq', 'de_ratioq', 'debt_invcapq',\n",
       "        'prccq', 'xsgaq', 'opcfq', 'be4', 'invtq', 'oepf12', 'cf_yield', 'dpcy',\n",
       "        'xsgay', 'rect_actq', 'market_cap'],\n",
       "       dtype='object'),\n",
       " Index(['at_turnq', 'fcf_csfhdq', 'capxy', 'de_ratioq', 'buy_back_yield',\n",
       "        'pay_turnq', 'oepsxy', 'dvy', 'cshopq', 'capxq', 'cheq', 'cfmq',\n",
       "        'sale_equityq', 'opmadq', 'sale_invcapq'],\n",
       "       dtype='object'),\n",
       " Index(['fcf_csfhdq', 'oancfy_q', 'sale_equityq', 'epspiq', 'cshprq',\n",
       "        'pay_turnq', 'opmbdq', 'oancfy', 'revty', 'fcf_ocfq', 'dpq', 'ceq4',\n",
       "        'seq4', 'npmq', 'pstkq', 'de_ratioq', 'lt_ppentq', 'cf_yield',\n",
       "        'pe_op_basicq', 'ibcomq', 'txpq', 'debt_atq', 'capxq', 'xoprq', 'cshiq',\n",
       "        'int_debtq', 'oiadpq', 'sale_nwcq', 'teqq', 'ceqq', 'dlcq', 'opmadq',\n",
       "        'lagppent4', 'cfo-per-share', 'opepsq', 'xintq', 'quick_ratioq', 'spiq',\n",
       "        'cash_debtq', 'rd_saleq', 'aftret_equityq', 'dltt_beq', 'req', 'lctq',\n",
       "        'epsfxq', 'accrualq', 'cshfdq', 'dvpspq', 'gpmq', 'pretret_noaq',\n",
       "        'epsf12', 'txpdy', 'dltry', 'cash_ltq', 'debt_ebitdaq', 'csh12q',\n",
       "        'oibdpq', 'epspxq', 'invt_actq', 'cheq', 'beq', 'lagseq4', 'xsgay',\n",
       "        'book_value_per_share'],\n",
       "       dtype='object'),\n",
       " Index(['cshopq', 'fcf_ocfq', 'fcf_csfhdq', 'seq4', 'fqtr_3', 'txdbq',\n",
       "        'fcf_yield', 'opepsq', 'oepsxy', 'miiq', 'evmq', 'epspiq', 'cshfdq',\n",
       "        'revty', 'buy_back_yield', 'epsfxq', 'ibadj12', 'npmq', 'pretret_noaq',\n",
       "        'ocf_lctq', 'cfmq', 'dlttq', 'opmadq', 'yearly_sales', 'piq',\n",
       "        'cf_yield', 'dprq', 'debt_invcapq', 'csh12q', 'teqq', 'at_turnq',\n",
       "        'ibadjq', 'cstkq', 'pcfq', 'roceq'],\n",
       "       dtype='object'),\n",
       " Index(['opmadq', 'epspiq', 'dvq', 'buy_back_yield', 'debt_capitalq', 'epspxq',\n",
       "        'capital_ratioq', 'xintq', 'ppentq', 'oancfy',\n",
       "        ...\n",
       "        'epsfi12', 'capeiq', 'roeq', 'cash_conversionq', 'pe_exiq',\n",
       "        'book_value_per_share', 'ceqq', 'req', 'be4', 'curr_debtq'],\n",
       "       dtype='object', length=134),\n",
       " Index(['fcf_yield', 'fcf_csfhdq', 'fqtr_3', 'revty', 'buy_back_yield', 'xinty',\n",
       "        'dvpspq', 'dlttq', 'cshopq', 'cstkq',\n",
       "        ...\n",
       "        'cshfdq', 'cshiq', 'epsfi12', 'txpq', 'market_cap', 'cshoq', 'ibcomq',\n",
       "        'epspi12', 'chechy', 'dltry'],\n",
       "       dtype='object', length=144),\n",
       " Index(['fcf_ocfq', 'dprq', 'fcf_csfhdq', 'oancfy_q', 'ibcomq',\n",
       "        'buy_back_yield', 'cstkq', 'dvy', 'fqtr_3', 'icaptq', 'ltq', 'fqtr_4',\n",
       "        'capxq', 'niq', 'opepsq', 'gpmq', 'inv_turnq', 'epsfxq', 'nopiq',\n",
       "        'cfo-per-share', 'dvq', 'curr_debtq', 'cshiq', 'actq',\n",
       "        'book_value_per_share', 'opmadq', 'opmbdq', 'cshopq', 'ocf_lctq',\n",
       "        'sale_equityq', 'dvpspq', 'seq4', 'ibcq', 'lagppent4', 'cheq',\n",
       "        'accrualq', 'cf_yield', 'xinty', 'debt_capitalq', 'lctq', 'oibdpq',\n",
       "        'oancfy', 'de_ratioq', 'pcfq', 'rectq', 'fqtr_1', 'gprofq',\n",
       "        'sale_invcapq', 'opcfq', 'lagppent_alt4', 'saleq', 'dltt_beq', 'bmq',\n",
       "        'capeiq', 'oepsxy', 'capxy', 'at5', 'csh12q', 'evmq', 'xoprq', 'dpq',\n",
       "        'prcraq', 'cash_conversionq', 'ceq4', 'cogsy', 'fcf_yield', 'oeps12',\n",
       "        'capital_ratioq', 'market_cap', 'efftaxq', 'miiy', 'rect_turnq',\n",
       "        'epspxq', 'apq', 'roeq', 'epspi12', 'ibq'],\n",
       "       dtype='object'),\n",
       " Index(['fcf_yield', 'buy_back_yield', 'fcf_ocfq', 'fcf_csfhdq', 'txdbq',\n",
       "        'dvpspq', 'at_turnq', 'debt_invcapq', 'rect_turnq', 'cfmq',\n",
       "        'cfo-per-share', 'xoprq', 'ocf_lctq', 'nopiq', 'lctq4', 'oancfy_q',\n",
       "        'ibadj12', 'niq', 'cf_yield', 'txditcq', 'profit_lctq', 'revtq'],\n",
       "       dtype='object'),\n",
       " Index(['fcf_yield', 'lt_ppentq', 'ppentq', 'ibcy', 'fcf_ocfq', 'efftaxq',\n",
       "        'ltq', 'rectq', 'ptpmq', 'at_turnq',\n",
       "        ...\n",
       "        'apq', 'pe_exiq', 'oepsxy', 'epspiq', 'ibcomq', 'capital_ratioq',\n",
       "        'cash_conversionq', 'dltry', 'epsfi12', 'intcovq'],\n",
       "       dtype='object', length=105),\n",
       " Index(['fcf_yield', 'sale_invcapq', 'ppentq', 'fcf_ocfq', 'dvpspq', 'dprq',\n",
       "        'fcf_csfhdq', 'opepsq', 'dvy', 'book_value_yield',\n",
       "        ...\n",
       "        'invtq', 'ptpmq', 'rect_turnq', 'cash_debtq', 'buy_back_yield',\n",
       "        'ibcomq', 'cf_yield', 'equity_invcapq', 'cash_conversionq',\n",
       "        'lagppent4'],\n",
       "       dtype='object', length=105),\n",
       " Index(['fcf_ocfq', 'ppentq', 'fcf_yield', 'fcf_csfhdq', 'sale_equityq', 'dvq',\n",
       "        'capxq', 'lt_ppentq', 'dvpspq', 'cf_yield',\n",
       "        ...\n",
       "        'ibcy', 'oibdpy', 'xintq', 'yearly_sales', 'quick_ratioq', 'epsfi12',\n",
       "        'cshiq', 'intcov_ratioq', 'totdebt_invcapq', 'prccq'],\n",
       "       dtype='object', length=105),\n",
       " Index(['icaptq', 'lt_ppentq', 'fcf_yield', 'sale_invcapq', 'gprofq', 'efftaxq',\n",
       "        'at_turnq', 'dprq', 'fcf_csfhdq', 'fcf_ocfq', 'pretret_noaq', 'pe_exiq',\n",
       "        'ibcomy', 'pretret_earnatq', 'dvy', 'ibcq', 'oancfy', 'dvpspq', 'pcfq',\n",
       "        'sale_equityq', 'capxq', 'evmq', 'actq', 'oepf12', 'epspiq', 'dltisy',\n",
       "        'cshfdq', 'cogsy', 'rectq', 'ibadjq', 'curr_debtq', 'opepsq', 'oiadpq',\n",
       "        'revtq', 'revty', 'epsfi12', 'buy_back_yield', 'oepsxq', 'ptpmq',\n",
       "        'quick_ratioq', 'csh12q', 'epspxq', 'psq', 'xoprq', 'cash_conversionq',\n",
       "        'dvq', 'lagseq4'],\n",
       "       dtype='object'),\n",
       " Index(['fcf_yield', 'ceqq', 'txpdy', 'xsgay', 'evmq', 'opmadq', 'rect_turnq',\n",
       "        'roceq', 'pretret_noaq', 'actq', 'opcfq', 'xrdq', 'at5', 'dlttq',\n",
       "        'ibcq', 'profit_lctq', 'pcfq', 'oancfy', 'sale_invcapq', 'xrdy',\n",
       "        'oepsxq', 'epspi12', 'short_debtq', 'pretret_earnatq', 'inv_turnq',\n",
       "        'dvq', 'lt_ppentq', 'pe_incq', 'intcov_ratioq', 'ibcomy', 'ceq4',\n",
       "        'pe_op_dilq', 'dvy', 'dpcy', 'ppentq', 'aftret_invcapxq', 'fcf_ocfq',\n",
       "        'gpmq', 'cshiq', 'buy_back_yield', 'piq', 'lctq', 'req', 'seqq',\n",
       "        'ptpmq', 'ibadj12', 'lagicapt4', 'icaptq', 'oepsxy', 'curr_ratioq',\n",
       "        'ocf_lctq', 'pay_turnq', 'epsx12', 'sale_equityq', 'cshoq', 'capxq',\n",
       "        'revtq', 'book_value_per_share', 'prccq', 'totdebt_invcapq',\n",
       "        'invt_actq', 'dltry', 'dltt_beq', 'lagppent_alt4', 'debt_invcapq',\n",
       "        'ibcy', 'curr_debtq', 'debt_assetsq', 'market_cap', 'xinty',\n",
       "        'int_debtq', 'cshfdq', 'dlcq'],\n",
       "       dtype='object'),\n",
       " Index(['fcf_yield', 'fcf_ocfq', 'evmq', 'rd_saleq', 'invt_actq', 'dpq',\n",
       "        'roceq', 'rect_turnq', 'xrdq', 'cf_yield', 'at_turnq', 'fqtr_4', 'dprq',\n",
       "        'txpdy', 'opmbdq', 'sale_nwcq', 'lt_ppentq', 'dvq', 'oepsxy', 'opmadq',\n",
       "        'cshprq', 'xsgaq', 'cash_debtq', 'ltq', 'rectq', 'lagseq4', 'dvpspq',\n",
       "        'apq', 'invtq', 'at4', 'prcraq', 'dpcy', 'req', 'fcf_csfhdq', 'capxy',\n",
       "        'nopiq', 'dlttq', 'epsfi12', 'inv_turnq', 'lagppent4', 'roaq',\n",
       "        'lagppent_alt4', 'ocf_lctq', 'revty', 'gpmq', 'ibcy', 'rect_actq',\n",
       "        'yearly_sales', 'intcovq', 'dltry', 'lagbe4', 'intcov_ratioq', 'capeiq',\n",
       "        'optdrq', 'cogsy', 'epsf12', 'pe_op_basicq', 'totdebt_invcapq',\n",
       "        'epsx12'],\n",
       "       dtype='object'),\n",
       " Index(['fcf_yield', 'fcf_ocfq', 'fqtr_2', 'dvpspq', 'oancfy', 'cshopq',\n",
       "        'lt_ppentq', 'ptpmq', 'evmq', 'dvy', 'niq', 'opmadq', 'dprq', 'fqtr_4',\n",
       "        'rectq', 'sale_equityq', 'at5', 'gprofq', 'dvq', 'buy_back_yield',\n",
       "        'ppentq', 'oepsxy', 'npmq', 'opmbdq', 'profit_lctq', 'roaq', 'ibcy',\n",
       "        'ibadj12', 'debt_assetsq', 'accrualq', 'sale_nwcq', 'pe_op_dilq',\n",
       "        'oiadpq', 'opcfq', 'cshfdq', 'rect_turnq', 'roeq', 'dpcy', 'lagppent4',\n",
       "        'cf_yield', 'efftaxq', 'opepsq', 'int_totdebtq', 'cogsy',\n",
       "        'debt_capitalq', 'cfmq', 'at_turnq', 'miiq', 'chechy', 'aftret_equityq',\n",
       "        'cash_conversionq', 'atq', 'intcovq', 'ocf_lctq', 'curr_ratioq',\n",
       "        'oibdpy'],\n",
       "       dtype='object'),\n",
       " Index(['fqtr_2', 'fcf_ocfq', 'dvy', 'oancfy', 'roaq', 'opmbdq', 'evmq',\n",
       "        'fcf_csfhdq', 'atq', 'xsgay',\n",
       "        ...\n",
       "        'epsf12', 'debt_invcapq', 'dlttq', 'market_cap', 'debt_ebitdaq', 'seqq',\n",
       "        'bmq', 'aftret_eqq', 'sale_equityq', 'cshprq'],\n",
       "       dtype='object', length=115),\n",
       " Index(['fcf_yield', 'ppentq', 'rd_saleq', 'fcf_csfhdq', 'fqtr_2', 'evmq',\n",
       "        'lt_ppentq', 'fcf_ocfq', 'fqtr_4', 'gpmq',\n",
       "        ...\n",
       "        'cogsq', 'lagbe4', 'debt_invcapq', 'book_value_yield',\n",
       "        'totdebt_invcapq', 'revtq', 'cstkq', 'aftret_eqq', 'profit_lctq',\n",
       "        'icaptq'],\n",
       "       dtype='object', length=153),\n",
       " Index(['fcf_csfhdq', 'rd_saleq', 'ibcomy', 'ptpmq', 'dprq', 'lt_ppentq',\n",
       "        'pay_turnq', 'sale_equityq', 'npmq', 'piq', 'xrdq', 'cfmq', 'xrdy',\n",
       "        'beq', 'fcf_ocfq', 'buy_back_yield', 'pe_exiq', 'ppentq', 'cshopq',\n",
       "        'lagppent4', 'cstkq', 'int_totdebtq', 'prcraq', 'debt_ebitdaq', 'capxq',\n",
       "        'int_debtq', 'market_cap', 'opmbdq', 'ceqq', 'ibadj12', 'at_turnq',\n",
       "        'epspi12', 'cfo-per-share', 'invtq', 'cogsq', 'inv_turnq', 'at4',\n",
       "        'nopiq', 'dlttq'],\n",
       "       dtype='object'),\n",
       " Index(['evmq', 'xrdq', 'xrdy', 'ppentq', 'lt_debtq', 'fcf_ocfq', 'fqtr_4',\n",
       "        'txpdy', 'ibcy', 'oepsxq',\n",
       "        ...\n",
       "        'short_debtq', 'int_debtq', 'txpq', 'oepf12', 'oancfy_q', 'cshoq',\n",
       "        'pay_turnq', 'roeq', 'dltisy', 'fqtr_3'],\n",
       "       dtype='object', length=170)]"
      ]
     },
     "execution_count": 3,
     "metadata": {},
     "output_type": "execute_result"
    }
   ],
   "source": [
    "shap_features_RF"
   ]
  },
  {
   "cell_type": "code",
   "execution_count": 4,
   "id": "300b70a0803b517",
   "metadata": {
    "ExecuteTime": {
     "end_time": "2024-03-04T01:11:15.544468Z",
     "start_time": "2024-03-04T01:11:15.541732Z"
    }
   },
   "outputs": [],
   "source": [
    "with open(r'/Users/zhihongqiu/Downloads/Simon-Chicago/CHICAGO/Machine Learning/course_files_export/Lecture 13, Feb 20, 2024/Gradient Boosting Parameters/shap_features_gb_clf_01.pkl','rb') as g:\n",
    "    shap_features_GB = cPickle.load(g)"
   ]
  },
  {
   "cell_type": "code",
   "execution_count": 5,
   "id": "64d09dcfe5de22b3",
   "metadata": {
    "ExecuteTime": {
     "end_time": "2024-03-04T01:11:15.851867Z",
     "start_time": "2024-03-04T01:11:15.845723Z"
    }
   },
   "outputs": [
    {
     "data": {
      "text/plain": [
       "[Index(['prccq', 'evmq', 'market_cap', 'oancfy_q', 'capeiq', 'opmbdq',\n",
       "        'lagicapt4', 'int_debtq', 'pay_turnq', 'dlttq',\n",
       "        ...\n",
       "        'csh12q', 'be4', 'spcsrc_B', 'atq', 'at5', 'miiq', 'at4',\n",
       "        'book_value_per_share', 'pe_incq', 'ceq4'],\n",
       "       dtype='object', length=166),\n",
       " Index(['curr_ratioq', 'fcf_csfhdq', 'lagicapt4', 'cash_conversionq',\n",
       "        'epsfi12'],\n",
       "       dtype='object'),\n",
       " Index(['market_cap', 'capeiq', 'oancfy_q', 'pay_turnq', 'opmbdq', 'fcf_yield',\n",
       "        'debt_assetsq', 'evmq', 'apq', 'cheq', 'cash_conversionq', 'prccq',\n",
       "        'ibadj12', 'cfmq', 'rect_turnq', 'xrdy', 'int_debtq', 'rectq',\n",
       "        'efftaxq', 'lt_ppentq', 'txpq', 'inv_turnq', 'fqtr_2', 'capxq',\n",
       "        'cf_yield', 'xsgay', 'txpdy', 'rd_saleq', 'oepsxy', 'dltisy', 'cshfdq',\n",
       "        'invtq', 'pretret_noaq', 'dltt_beq', 'lctq4', 'lagicapt4', 'aftret_eqq',\n",
       "        'aftret_invcapxq', 'quick_ratioq', 'debt_atq', 'at_turnq', 'dvq', 'at4',\n",
       "        'chechy', 'xinty', 'txditcq', 'book_value_yield', 'ptpmq', 'dpcq',\n",
       "        'oiadpq', 'roaq', 'sale_nwcq', 'debt_capitalq', 'epspi12', 'oepf12',\n",
       "        'debt_invcapq', 'int_totdebtq', 'debt_ebitdaq', 'cash_ratioq',\n",
       "        'intcov_ratioq', 'yearly_sales', 'rect_actq', 'roceq', 'opcfq', 'gpmq',\n",
       "        'equity_invcapq', 'gprofq', 'lagppent4', 'ibcq', 'lagbe4', 'actq',\n",
       "        'cogsq', 'dpcy', 'cshoq', 'cstkq', 'dlttq', 'epsfi12', 'ltq', 'oibdpq',\n",
       "        'xsgaq', 'nopiq', 'oancfy', 'oibdpy', 'at5', 'oepsxq', 'dlcq',\n",
       "        'intcovq', 'sale_invcapq', 'be4', 'bmq', 'ceqq', 'roeq', 'psq',\n",
       "        'profit_lctq', 'curr_debtq', 'icaptq', 'epsfxq'],\n",
       "       dtype='object'),\n",
       " Index(['prccq', 'oancfy_q', 'evmq', 'capeiq', 'debt_assetsq', 'pay_turnq',\n",
       "        'book_value_yield', 'cf_yield', 'efftaxq', 'xidoy',\n",
       "        ...\n",
       "        'dlcchy', 'beq', 'miiy', 'oeps12', 'teqq', 'seq4', 'spcsrc_B+', 'psq',\n",
       "        'mibq', 'pe_exiq'],\n",
       "       dtype='object', length=171),\n",
       " Index(['oancfy_q', 'cf_yield', 'cfmq', 'capeiq', 'roceq', 'roaq', 'market_cap',\n",
       "        'fcf_yield', 'pretret_noaq', 'dprq', 'epsfi12', 'oepsxy', 'rd_saleq',\n",
       "        'int_totdebtq', 'curr_ratioq', 'lt_debtq', 'epsfxq', 'epspi12',\n",
       "        'int_debtq', 'short_debtq', 'cash_conversionq', 'lt_ppentq', 'npmq',\n",
       "        'ibcomy', 'prccq', 'ltq', 'fqtr_3', 'epsfiq', 'dpcy', 'txpq',\n",
       "        'cash_ratioq', 'evmq', 'apq', 'bmq', 'be4', 'cheq', 'rect_turnq',\n",
       "        'oepf12', 'aftret_invcapxq', 'fcf_csfhdq', 'intcovq', 'lagbe4',\n",
       "        'epspxq', 'epspiq', 'dlttq', 'debt_capitalq', 'oancfy', 'pcfq',\n",
       "        'yearly_sales', 'equity_invcapq', 'psq', 'dltt_beq', 'efftaxq',\n",
       "        'ppentq', 'oepsxq'],\n",
       "       dtype='object'),\n",
       " Index(['cfmq', 'oepsxy', 'lt_ppentq', 'efftaxq', 'cheq', 'capeiq', 'oancfy_q',\n",
       "        'prccq', 'gpmq', 'evmq',\n",
       "        ...\n",
       "        'ibcomq', 'epsx12', 'intcov_ratioq', 'saleq', 'pe_op_basicq', 'miiy',\n",
       "        'debt_atq', 'lctq', 'seq4', 'be4'],\n",
       "       dtype='object', length=172),\n",
       " Index(['dvpspq', 'prccq', 'cf_yield', 'fcf_yield', 'oancfy_q', 'cheq',\n",
       "        'epspxq', 'xsgay', 'pretret_noaq', 'cfmq', 'cash_conversionq',\n",
       "        'lt_ppentq', 'capeiq', 'opmbdq', 'spcsrc_B-', 'fqtr_1', 'epsfxq',\n",
       "        'dpcq', 'epsfiq', 'rd_saleq', 'oepsxy', 'lt_debtq', 'ibadj12',\n",
       "        'at_turnq', 'book_value_per_share', 'cash_ltq', 'ppentq', 'chechy',\n",
       "        'ltq', 'evmq', 'apq', 'dprq', 'rect_actq', 'yearly_sales', 'ibcomy',\n",
       "        'ocf_lctq', 'dlttq', 'efftaxq', 'atq', 'fqtr_4', 'capxq', 'pcfq',\n",
       "        'epspi12', 'dltisy', 'market_cap', 'xsgaq', 'cfo-per-share', 'cshoq',\n",
       "        'intcovq', 'cshfdq', 'lagbe4', 'opmadq', 'int_totdebtq', 'lctq4',\n",
       "        'curr_ratioq', 'ptpmq', 'debt_capitalq', 'oepf12', 'nopiq', 'req',\n",
       "        'psq', 'rect_turnq', 'epsfi12', 'curr_debtq', 'aftret_equityq', 'revtq',\n",
       "        'cash_ratioq', 'cogsy', 'rectq', 'cogsq', 'at5', 'cstkq',\n",
       "        'sale_invcapq', 'book_value_yield', 'beq', 'lagppent_alt4', 'xinty',\n",
       "        'profit_lctq', 'inv_turnq', 'equity_invcapq', 'ibq', 'intcov_ratioq',\n",
       "        'oiadpq', 'lagicapt4', 'epspiq', 'dpcy', 'ibcy', 'xoprq', 'epsx12'],\n",
       "       dtype='object'),\n",
       " Index(['cf_yield', 'dvpspq', 'pe_incq', 'debt_assetsq', 'capeiq', 'epspxq',\n",
       "        'cfo-per-share', 'xsgay', 'oancfy_q', 'lt_ppentq'],\n",
       "       dtype='object'),\n",
       " Index(['chechy', 'prccq', 'evmq', 'cfmq', 'cheq', 'oepsxy', 'market_cap',\n",
       "        'efftaxq', 'fcf_yield', 'oancfy_q',\n",
       "        ...\n",
       "        'capital_ratioq', 'spcsrc_C', 'cshoq', 'spcsrc_B+', 'spcsrc_A', 'teqq',\n",
       "        'spcsrc_B', 'sic_6798', 'sector_code_850.0', 'cdvcy'],\n",
       "       dtype='object', length=188),\n",
       " Index(['cf_yield', 'oancfy_q', 'dprq', 'rd_saleq', 'epspiq', 'dvpspq',\n",
       "        'cfo-per-share', 'fcf_yield', 'rectq', 'txtq'],\n",
       "       dtype='object'),\n",
       " Index(['oancfy_q', 'epsfiq', 'dvq', 'de_ratioq', 'rect_turnq', 'lt_ppentq',\n",
       "        'cf_yield', 'cash_ratioq', 'cfo-per-share', 'xrdq'],\n",
       "       dtype='object'),\n",
       " Index(['oancfy_q', 'fcf_yield', 'book_value_per_share', 'epspiq', 'cf_yield',\n",
       "        'lt_ppentq', 'dprq', 'pretret_noaq', 'cfo-per-share', 'ibadj12',\n",
       "        'epsfiq', 'cash_ltq', 'cash_ratioq', 'xinty', 'rectq', 'chechy',\n",
       "        'debt_capitalq', 'rect_actq', 'xrdq', 'opmbdq', 'cfmq', 'roaq', 'dpq',\n",
       "        'fqtr_1', 'fcf_csfhdq', 'req', 'miiq', 'gprofq', 'intcovq', 'inv_turnq',\n",
       "        'ocf_lctq', 'opepsq', 'int_totdebtq', 'cogsy', 'oancfy', 'epsfxq',\n",
       "        'fcf_ocfq', 'invtq', 'oepsxq', 'dlttq', 'evmq', 'profit_lctq'],\n",
       "       dtype='object'),\n",
       " Index(['evmq', 'oepsxy', 'fcf_yield', 'roceq', 'oancfy_q', 'rect_turnq',\n",
       "        'txpdy', 'cf_yield', 'capeiq', 'dltisy',\n",
       "        ...\n",
       "        'be4', 'seq4', 'xintq', 'curr_ratioq', 'ibq', 'ibcq', 'atq', 'oeps12',\n",
       "        'opepsq', 'fqtr_4'],\n",
       "       dtype='object', length=166),\n",
       " Index(['evmq', 'fcf_yield', 'gpmq', 'txpdy', 'cf_yield', 'lt_ppentq',\n",
       "        'cash_conversionq', 'cogsy', 'roeq', 'cheq',\n",
       "        ...\n",
       "        'debt_atq', 'miiy', 'seq4', 'roaq', 'pe_incq', 'pe_exiq', 'epsf12',\n",
       "        'spcsrc_B', 'epsx12', 'dlcchy'],\n",
       "       dtype='object', length=173),\n",
       " Index(['evmq', 'rect_turnq', 'fcf_yield', 'gpmq', 'cf_yield', 'inv_turnq',\n",
       "        'cogsy', 'sale_invcapq', 'sale_equityq', 'totdebt_invcapq',\n",
       "        ...\n",
       "        'spcsrc_B', 'pe_exiq', 'curr_ratioq', 'ltq', 'fqtr_4', 'icaptq',\n",
       "        'xidoy', 'oepsxq', 'be4', 'miiq'],\n",
       "       dtype='object', length=175),\n",
       " Index(['evmq', 'rect_turnq', 'cf_yield', 'fcf_yield', 'chechy', 'bmq',\n",
       "        'oepsxy', 'dvq', 'debt_ebitdaq', 'gpmq',\n",
       "        ...\n",
       "        'spcsrc_B-', 'atq', 'epsfi12', 'xrdy', 'ibq', 'ibadjq', 'oepsxq',\n",
       "        'buy_back_yield', 'ltq', 'pe_op_basicq'],\n",
       "       dtype='object', length=103),\n",
       " Index(['chechy', 'evmq', 'oepsxy', 'cheq', 'oancfy', 'prccq', 'cf_yield',\n",
       "        'nopiq', 'oancfy_q', 'fcf_yield',\n",
       "        ...\n",
       "        'sector_code_817.0', 'dvpq', 'fqtr_1', 'spcsrc_B+', 'sic_1311', 'pstkq',\n",
       "        'sector_code_705.0', 'spcsrc_A-', 'spcsrc_A', 'txdbq'],\n",
       "       dtype='object', length=190),\n",
       " Index(['evmq', 'chechy', 'cf_yield', 'oancfy_q', 'oancfy', 'oepsxy',\n",
       "        'fcf_yield', 'prccq', 'nopiq', 'cheq',\n",
       "        ...\n",
       "        'pstkq', 'sic_6020', 'spcsrc_A', 'sic_1311', 'spcsrc_B', 'spcsrc_A-',\n",
       "        'dvpq', 'sector_code_705.0', 'spcsrc_B+', 'txdbq'],\n",
       "       dtype='object', length=190),\n",
       " Index(['evmq', 'rect_turnq', 'lt_ppentq', 'cf_yield', 'chechy', 'oancfy_q',\n",
       "        'prccq', 'inv_turnq', 'cfmq', 'opmadq',\n",
       "        ...\n",
       "        'csh12q', 'fqtr_4', 'epsf12', 'epsx12', 'cshoq', 'ibadjq', 'cshprq',\n",
       "        'pe_exiq', 'miiq', 'seqq'],\n",
       "       dtype='object', length=176),\n",
       " Index(['fcf_yield', 'fqtr_2', 'ibcomy', 'dvpspq', 'rect_actq', 'debt_assetsq',\n",
       "        'cf_yield', 'debt_ebitdaq', 'accrualq', 'lt_ppentq'],\n",
       "       dtype='object'),\n",
       " Index(['cf_yield', 'debt_assetsq', 'fqtr_2', 'ibcomy', 'rect_actq', 'evmq',\n",
       "        'inv_turnq', 'oepsxy', 'debt_atq', 'oancfy'],\n",
       "       dtype='object'),\n",
       " Index(['cf_yield', 'fqtr_2', 'opmadq', 'de_ratioq', 'fcf_yield', 'gpmq',\n",
       "        'dprq', 'debt_assetsq', 'req', 'ptpmq'],\n",
       "       dtype='object'),\n",
       " Index(['cf_yield', 'de_ratioq'], dtype='object'),\n",
       " Index(['ibcq', 'dltry'], dtype='object'),\n",
       " Index(['prccq', 'evmq', 'cf_yield', 'rect_turnq', 'roeq', 'chechy', 'nopiq',\n",
       "        'gpmq', 'capeiq', 'txpdy',\n",
       "        ...\n",
       "        'epsx12', 'at4', 'pe_exiq', 'cash_ratioq', 'cshoq', 'sic_6331',\n",
       "        'spcsrc_A', 'seq4', 'fqtr_4', 'ibq'],\n",
       "       dtype='object', length=185),\n",
       " Index(['teqq', 'fqtr_2', 'cf_yield', 'prccq', 'fcf_yield', 'debt_ebitdaq',\n",
       "        'evmq', 'oancfy', 'at_turnq', 'dpcy', 'ptpmq', 'accrualq',\n",
       "        'debt_assetsq', 'nopiq', 'fqtr_4', 'ocf_lctq', 'dlttq', 'cogsq', 'xrdq',\n",
       "        'roceq', 'pay_turnq', 'lt_debtq', 'intcovq', 'ibadj12'],\n",
       "       dtype='object'),\n",
       " Index(['cf_yield', 'fqtr_2', 'teqq', 'dprq', 'evmq', 'market_cap',\n",
       "        'cash_conversionq', 'accrualq', 'dvpspq', 'prccq', 'capxq', 'at_turnq',\n",
       "        'lt_ppentq', 'dltisy', 'oancfy', 'dpcy', 'roceq', 'fcf_yield', 'oepsxy',\n",
       "        'ocf_lctq', 'spcsrc_B-', 'debt_assetsq', 'lt_debtq', 'opmadq', 'capxy',\n",
       "        'debt_ebitdaq', 'nopiq', 'intcov_ratioq', 'rd_saleq', 'epspxq', 'ptpmq',\n",
       "        'pretret_earnatq', 'fqtr_4', 'pay_turnq', 'equity_invcapq', 'chechy',\n",
       "        'xsgaq', 'sale_nwcq', 'cogsq', 'dlttq', 'seqq', 'cfo-per-share', 'pcfq',\n",
       "        'npmq', 'efftaxq', 'cash_debtq', 'csh12q', 'short_debtq',\n",
       "        'debt_invcapq', 'int_debtq', 'roaq', 'spcsrc_B'],\n",
       "       dtype='object'),\n",
       " Index(['teqq', 'evmq', 'prccq', 'cf_yield', 'gpmq', 'chechy', 'dltisy',\n",
       "        'txpdy', 'inv_turnq', 'pay_turnq',\n",
       "        ...\n",
       "        'yearly_sales', 'spcsrc_B+', 'epspiq', 'xrdy', 'debt_atq', 'miiq',\n",
       "        'oepf12', 'ceq4', 'seq4', 'lagseq4'],\n",
       "       dtype='object', length=166),\n",
       " Index(['evmq', 'nopiq', 'chechy', 'teqq', 'cf_yield', 'dltry', 'prccq',\n",
       "        'efftaxq', 'int_totdebtq', 'inv_turnq',\n",
       "        ...\n",
       "        'cshoq', 'pstkq', 'epsx12', 'ceq4', 'at5', 'at4', 'spcsrc_B+',\n",
       "        'spcsrc_A', 'txdbq', 'sic_6798'],\n",
       "       dtype='object', length=186),\n",
       " Index(['evmq', 'cf_yield', 'prccq', 'chechy', 'teqq', 'dltry', 'nopiq', 'gpmq',\n",
       "        'market_cap', 'efftaxq',\n",
       "        ...\n",
       "        'dvpq', 'pstkq', 'spcsrc_B', 'at4', 'spcsrc_C', 'atq', 'spcsrc_A-',\n",
       "        'sector_code_850.0', 'at5', 'fqtr_3'],\n",
       "       dtype='object', length=187),\n",
       " Index(['teqq', 'oancfy', 'fqtr_2', 'cf_yield', 'opmbdq', 'dvpspq', 'fcf_yield',\n",
       "        'evmq', 'buy_back_yield', 'at_turnq', 'lt_debtq', 'prccq', 'xsgay',\n",
       "        'req', 'market_cap', 'ptpmq', 'rect_turnq', 'nopiq', 'optdrq',\n",
       "        'book_value_yield', 'sale_equityq', 'cash_conversionq', 'rectq',\n",
       "        'fqtr_4', 'inv_turnq', 'curr_ratioq', 'cheq', 'cstkq', 'capxy',\n",
       "        'int_totdebtq', 'aftret_equityq', 'equity_invcapq', 'opmadq', 'dltisy',\n",
       "        'profit_lctq', 'pe_op_basicq', 'pe_incq', 'pcfq', 'dvy', 'ibcomy',\n",
       "        'oancfy_q', 'oepsxy', 'opcfq', 'apq', 'quick_ratioq', 'npmq',\n",
       "        'sale_invcapq', 'debt_ebitdaq', 'curr_debtq', 'ocf_lctq',\n",
       "        'pretret_earnatq', 'oibdpq', 'fqtr_3', 'lagppent4', 'cshoq', 'txditcq',\n",
       "        'spcsrc_B+', 'xintq', 'cshfdq', 'de_ratioq'],\n",
       "       dtype='object'),\n",
       " Index(['teqq', 'oancfy', 'opmbdq', 'market_cap', 'debt_ebitdaq', 'cf_yield',\n",
       "        'cheq', 'short_debtq', 'dpcy', 'rectq', 'fcf_yield', 'pay_turnq',\n",
       "        'optdrq', 'profit_lctq', 'evmq', 'prccq', 'apq', 'fqtr_4', 'gpmq',\n",
       "        'fqtr_2', 'req', 'at_turnq', 'sale_equityq', 'buy_back_yield', 'roaq',\n",
       "        'roceq', 'rect_turnq', 'curr_ratioq', 'gprofq', 'ocf_lctq', 'spcsrc_B-',\n",
       "        'xsgay', 'ptpmq', 'spcsrc_B+', 'book_value_yield', 'cash_conversionq',\n",
       "        'capxq', 'opcfq', 'cfo-per-share', 'cfmq', 'txtq', 'ibq', 'cash_ratioq',\n",
       "        'icaptq', 'cstkq', 'cash_ltq', 'capxy'],\n",
       "       dtype='object'),\n",
       " Index(['evmq', 'prccq', 'gpmq', 'cf_yield', 'cash_conversionq', 'market_cap',\n",
       "        'opmbdq', 'dltry', 'chechy', 'inv_turnq',\n",
       "        ...\n",
       "        'txdbq', 'xrdq', 'pe_exiq', 'spcsrc_B', 'seqq', 'at5', 'dvpq',\n",
       "        'spcsrc_A-', 'sic_6798', 'xidocy'],\n",
       "       dtype='object', length=188),\n",
       " Index(['dvpspq', 'opmbdq', 'rectq', 'oancfy', 'sale_equityq', 'lt_debtq',\n",
       "        'dpcy', 'fcf_yield', 'cf_yield', 'pay_turnq'],\n",
       "       dtype='object'),\n",
       " Index(['opmbdq', 'rectq', 'at_turnq', 'ibadj12', 'aftret_eqq', 'fcf_ocfq',\n",
       "        'dvy', 'invt_actq', 'revty', 'profit_lctq', 'int_totdebtq'],\n",
       "       dtype='object'),\n",
       " Index(['oancfy', 'opmbdq', 'dvpspq', 'cheq', 'fcf_yield', 'sale_equityq',\n",
       "        'rectq', 'int_debtq', 'efftaxq', 'dpcy', 'rect_turnq', 'apq', 'capxq',\n",
       "        'evmq', 'roceq', 'lt_debtq', 'cf_yield', 'xsgay', 'fqtr_3', 'ptpmq',\n",
       "        'fqtr_1', 'oancfy_q', 'spcsrc_B-', 'dvy', 'de_ratioq', 'xinty', 'dpq',\n",
       "        'inv_turnq', 'fcf_csfhdq', 'cogsy', 'cshopq', 'debt_capitalq',\n",
       "        'sale_nwcq', 'spcsrc_B+', 'xsgaq', 'aftret_equityq', 'cfmq',\n",
       "        'int_totdebtq', 'cshfdq'],\n",
       "       dtype='object'),\n",
       " Index(['oancfy', 'dvpspq', 'apq', 'fcf_csfhdq', 'sale_equityq', 'opmbdq',\n",
       "        'npmq', 'lt_debtq', 'fqtr_3', 'fcf_ocfq'],\n",
       "       dtype='object'),\n",
       " Index(['fcf_ocfq', 'ppentq', 'oancfy', 'pcfq', 'aftret_equityq', 'rectq',\n",
       "        'psq', 'txdbq', 'ibq', 'totdebt_invcapq', 'pay_turnq', 'dvq', 'pe_incq',\n",
       "        'xoprq'],\n",
       "       dtype='object'),\n",
       " Index(['evmq', 'fqtr_3', 'sale_equityq', 'fcf_yield', 'fcf_ocfq', 'dvpspq',\n",
       "        'int_debtq', 'roaq', 'rect_turnq', 'cshopq', 'txdbq', 'debt_assetsq',\n",
       "        'dprq', 'buy_back_yield', 'cstkq', 'rectq', 'cfmq', 'spcsrc_B+', 'pcfq',\n",
       "        'gpmq', 'spiq', 'oancfy', 'profit_lctq', 'roceq', 'lt_ppentq',\n",
       "        'de_ratioq', 'dlcq', 'sale_nwcq', 'inv_turnq', 'dpcy', 'dvy', 'ppentq',\n",
       "        'cf_yield', 'oancfy_q', 'yearly_sales', 'npmq', 'opmbdq', 'prccq',\n",
       "        'oepsxy', 'ocf_lctq', 'fcf_csfhdq', 'dltt_beq', 'capxq', 'ceqq',\n",
       "        'cash_conversionq', 'apq', 'cash_debtq', 'xinty', 'psq', 'opcfq',\n",
       "        'lt_debtq', 'curr_debtq', 'dvq', 'invt_actq', 'fqtr_1', 'dpcq',\n",
       "        'totdebt_invcapq', 'gprofq', 'capxy', 'txditcq', 'epsfxq', 'xsgaq',\n",
       "        'oepsxq', 'txtq', 'xoprq', 'cogsy', 'spcsrc_A-', 'cshoq', 'icaptq',\n",
       "        'cshfdq', 'opepsq', 'csh12q', 'cheq'],\n",
       "       dtype='object'),\n",
       " Index(['fcf_yield', 'fqtr_3', 'evmq', 'sale_equityq', 'gpmq', 'txdbq', 'dprq',\n",
       "        'de_ratioq', 'dvpspq', 'oepsxy',\n",
       "        ...\n",
       "        'epsfiq', 'epspiq', 'cshfdq', 'oibdpq', 'saleq', 'teqq', 'ibcy',\n",
       "        'pe_op_basicq', 'opmadq', 'lagbe4'],\n",
       "       dtype='object', length=133),\n",
       " Index(['sale_equityq', 'fqtr_3', 'fcf_yield', 'txdbq', 'cf_yield', 'oepsxy',\n",
       "        'fcf_ocfq', 'dprq', 'spcsrc_B-', 'lt_ppentq', 'cstkq', 'cshopq', 'ceqq',\n",
       "        'rect_turnq', 'npmq', 'lagppent4', 'fqtr_1', 'xsgaq', 'txpq',\n",
       "        'buy_back_yield', 'fcf_csfhdq', 'pcfq', 'prcraq', 'gprofq', 'xinty',\n",
       "        'inv_turnq', 'cshoq', 'apq', 'spcsrc_C', 'epsfiq', 'gpmq',\n",
       "        'aftret_equityq', 'lt_debtq', 'cash_ltq', 'seq4', 'oeps12', 'oepsxq',\n",
       "        'rectq', 'dlcq', 'xintq'],\n",
       "       dtype='object'),\n",
       " Index(['evmq', 'txdbq', 'cf_yield', 'gpmq', 'int_debtq', 'fcf_yield',\n",
       "        'fcf_ocfq', 'dvy', 'fqtr_4', 'cogsy',\n",
       "        ...\n",
       "        'curr_ratioq', 'actq', 'lagppent4', 'lagbe4', 'pe_exiq', 'pe_op_basicq',\n",
       "        'epsfiq', 'epspi12', 'dlcchy', 'revtq'],\n",
       "       dtype='object', length=165),\n",
       " Index(['fcf_yield', 'cf_yield', 'fqtr_3', 'txdbq', 'evmq', 'fcf_ocfq', 'cstkq',\n",
       "        'buy_back_yield', 'dvy', 'txpq',\n",
       "        ...\n",
       "        'psq', 'spcsrc_B+', 'oepf12', 'sale_invcapq', 'lctq', 'txtq', 'epsf12',\n",
       "        'quick_ratioq', 'ibcq', 'ibadjq'],\n",
       "       dtype='object', length=152),\n",
       " Index(['fcf_yield', 'buy_back_yield', 'fqtr_3', 'rect_turnq', 'cf_yield',\n",
       "        'lt_ppentq', 'fcf_ocfq', 'fcf_csfhdq', 'dpcy', 'dpcq', 'de_ratioq',\n",
       "        'gpmq', 'invtq', 'sale_invcapq', 'xsgay', 'ceqq', 'debt_assetsq',\n",
       "        'opmbdq', 'txpdy', 'cstkq', 'cfo-per-share', 'lagbe4', 'evmq', 'xinty',\n",
       "        'cfmq', 'fqtr_4', 'capxy', 'accrualq', 'be4', 'txdbq', 'dltry',\n",
       "        'oibdpy', 'curr_ratioq', 'xsgaq', 'txpq', 'lagppent4', 'at_turnq',\n",
       "        'inv_turnq', 'efftaxq', 'intcovq', 'invt_actq', 'dlcq', 'opepsq'],\n",
       "       dtype='object'),\n",
       " Index(['evmq', 'cf_yield', 'dvpspq', 'fqtr_4', 'capeiq', 'buy_back_yield',\n",
       "        'gpmq', 'sale_equityq', 'fcf_yield', 'txdbq',\n",
       "        ...\n",
       "        'fqtr_2', 'revtq', 'cshprq', 'epsfxq', 'spcsrc_B+', 'saleq', 'lagseq4',\n",
       "        'miiy', 'ceq4', 'yearly_sales'],\n",
       "       dtype='object', length=166),\n",
       " Index(['evmq', 'cf_yield', 'buy_back_yield', 'dvpspq', 'roaq', 'fcf_yield',\n",
       "        'rect_turnq', 'capeiq', 'gpmq', 'lt_ppentq',\n",
       "        ...\n",
       "        'cash_conversionq', 'epsf12', 'epsfiq', 'cshiq', 'pe_exiq', 'oibdpq',\n",
       "        'pe_op_dilq', 'lagppent4', 'lagppent_alt4', 'cfmq'],\n",
       "       dtype='object', length=151),\n",
       " Index(['chechy', 'evmq', 'cf_yield', 'gpmq', 'fcf_yield', 'prccq', 'nopiq',\n",
       "        'cogsy', 'oepsxy', 'dltry',\n",
       "        ...\n",
       "        'sic_2836', 'atq', 'spcsrc_B', 'dvpq', 'sic_7372', 'mibq', 'sic_7370',\n",
       "        'ibq', 'spcsrc_B+', 'sic_6331'],\n",
       "       dtype='object', length=193),\n",
       " Index(['lt_ppentq', 'fcf_yield', 'fqtr_1', 'sale_invcapq'], dtype='object'),\n",
       " Index(['fcf_yield', 'evmq', 'cf_yield', 'lt_ppentq', 'opmbdq', 'pretret_noaq',\n",
       "        'inv_turnq', 'rect_turnq', 'cash_conversionq', 'invtq'],\n",
       "       dtype='object'),\n",
       " Index(['cf_yield', 'evmq', 'gpmq', 'fqtr_4', 'efftaxq', 'gprofq', 'fcf_yield',\n",
       "        'prccq', 'buy_back_yield', 'apq',\n",
       "        ...\n",
       "        'miiy', 'fcf_ocfq', 'txpq', 'pe_op_basicq', 'pstkrq', 'pstkq', 'opepsq',\n",
       "        'oeps12', 'oepf12', 'lctq'],\n",
       "       dtype='object', length=187),\n",
       " Index(['evmq', 'fcf_yield', 'fcf_csfhdq', 'actq', 'lt_ppentq', 'inv_turnq',\n",
       "        'cash_ratioq', 'ppentq', 'curr_ratioq', 'cash_ltq', 'rect_actq'],\n",
       "       dtype='object'),\n",
       " Index(['cf_yield', 'evmq', 'fcf_yield', 'fqtr_4', 'gpmq', 'fqtr_2', 'roaq',\n",
       "        'rect_turnq', 'prccq', 'dvpspq',\n",
       "        ...\n",
       "        'dvy', 'ceqq', 'pretret_noaq', 'xoprq', 'dpcy', 'psq', 'txtq', 'ibq',\n",
       "        'pe_op_basicq', 'lagppent_alt4'],\n",
       "       dtype='object', length=166),\n",
       " Index(['cf_yield', 'fcf_yield', 'evmq', 'gpmq', 'fqtr_4', 'fqtr_2', 'prccq',\n",
       "        'rect_turnq', 'gprofq', 'roaq', 'actq', 'fqtr_3', 'buy_back_yield',\n",
       "        'fqtr_1', 'ppentq', 'fcf_csfhdq', 'spcsrc_C', 'dprq', 'fcf_ocfq',\n",
       "        'dlttq', 'rd_saleq', 'lt_ppentq', 'cstkq', 'sale_equityq', 'rectq',\n",
       "        'lt_debtq', 'debt_assetsq', 'opmbdq', 'xrdq', 'roeq', 'oancfy',\n",
       "        'rect_actq', 'efftaxq', 'spcsrc_B-', 'market_cap', 'xsgay', 'cshoq',\n",
       "        'cshprq', 'pcfq', 'sic_6331', 'invtq', 'oepsxy', 'txpdy', 'spcsrc_A-',\n",
       "        'oibdpy', 'capeiq', 'aftret_invcapxq', 'capxq', 'short_debtq',\n",
       "        'int_debtq', 'miiy', 'be4', 'cshfdq', 'epsfiq', 'epspiq', 'miiq',\n",
       "        'csh12q', 'lagicapt4', 'aftret_eqq', 'cshopq', 'cash_ltq', 'icaptq',\n",
       "        'ibadj12', 'chechy', 'cash_conversionq', 'curr_ratioq', 'cogsq',\n",
       "        'quick_ratioq', 'apq', 'book_value_per_share'],\n",
       "       dtype='object'),\n",
       " Index(['fqtr_2', 'fqtr_4', 'evmq', 'fcf_csfhdq', 'rd_saleq', 'fcf_yield',\n",
       "        'rect_turnq', 'gpmq', 'fqtr_3', 'roaq', 'invt_actq', 'opmbdq', 'ppentq',\n",
       "        'oepsxy', 'lt_ppentq', 'cfmq', 'fqtr_1', 'xrdy', 'txpdy', 'xsgay',\n",
       "        'teqq'],\n",
       "       dtype='object'),\n",
       " Index(['rd_saleq', 'lt_ppentq', 'dprq', 'evmq', 'roaq', 'gpmq', 'oepsxy',\n",
       "        'fqtr_2', 'fcf_yield', 'fcf_csfhdq'],\n",
       "       dtype='object'),\n",
       " Index(['gpmq', 'evmq', 'cf_yield', 'rect_turnq', 'debt_ebitdaq', 'prccq',\n",
       "        'invt_actq', 'buy_back_yield', 'oepsxy', 'txpdy',\n",
       "        ...\n",
       "        'dlcq', 'at5', 'dpcq', 'pe_op_dilq', 'pe_exiq', 'debt_invcapq',\n",
       "        'lagppent_alt4', 'dvq', 'opcfq', 'aftret_eqq'],\n",
       "       dtype='object', length=131)]"
      ]
     },
     "execution_count": 5,
     "metadata": {},
     "output_type": "execute_result"
    }
   ],
   "source": [
    "shap_features_GB"
   ]
  },
  {
   "cell_type": "code",
   "execution_count": 6,
   "id": "10a80c809147382d",
   "metadata": {
    "ExecuteTime": {
     "end_time": "2024-03-04T01:11:16.368218Z",
     "start_time": "2024-03-04T01:11:16.363024Z"
    }
   },
   "outputs": [
    {
     "data": {
      "text/plain": [
       "['fcf_yield',\n",
       " 'cf_yield',\n",
       " 'oancfy',\n",
       " 'oancfy_q',\n",
       " 'fcf_csfhdq',\n",
       " 'lt_ppentq',\n",
       " 'evmq',\n",
       " 'dprq',\n",
       " 'oepsxy',\n",
       " 'dvpspq']"
      ]
     },
     "execution_count": 6,
     "metadata": {},
     "output_type": "execute_result"
    }
   ],
   "source": [
    "dic_RF={}\n",
    "for features in shap_features_RF:\n",
    "    for i in features:\n",
    "      if i in dic_RF.keys():\n",
    "          dic_RF[i]+=1\n",
    "      else:\n",
    "          dic_RF[i]=1\n",
    "\n",
    "dic_GB={}\n",
    "for features in shap_features_GB:\n",
    "    for i in features:\n",
    "      if i in dic_GB.keys():\n",
    "          dic_GB[i]+=1\n",
    "      else:\n",
    "          dic_GB[i]=1\n",
    "\n",
    "dic_RF=sorted(dic_RF.items(),key=lambda x:x[1],reverse=True)\n",
    "\n",
    "selected_features_RF=[i[0] for i in dic_RF[:10]]\n",
    "selected_features_RF"
   ]
  },
  {
   "cell_type": "code",
   "execution_count": 7,
   "id": "1760975708a73d1b",
   "metadata": {
    "ExecuteTime": {
     "end_time": "2024-03-04T01:11:16.817196Z",
     "start_time": "2024-03-04T01:11:16.814254Z"
    }
   },
   "outputs": [
    {
     "data": {
      "text/plain": [
       "['fcf_yield',\n",
       " 'cf_yield',\n",
       " 'evmq',\n",
       " 'lt_ppentq',\n",
       " 'oancfy',\n",
       " 'opmbdq',\n",
       " 'rect_turnq',\n",
       " 'rectq',\n",
       " 'fcf_csfhdq',\n",
       " 'oepsxy']"
      ]
     },
     "execution_count": 7,
     "metadata": {},
     "output_type": "execute_result"
    }
   ],
   "source": [
    "dic_GB=sorted(dic_GB.items(),key=lambda x:x[1],reverse=True)\n",
    "\n",
    "selected_features_GB=[i[0] for i in dic_GB[:10]]\n",
    "selected_features_GB"
   ]
  },
  {
   "cell_type": "markdown",
   "id": "e83529f6bc15373f",
   "metadata": {},
   "source": [
    "RF Strategy"
   ]
  },
  {
   "cell_type": "code",
   "execution_count": 8,
   "id": "ba283d346e6a5cf9",
   "metadata": {
    "ExecuteTime": {
     "end_time": "2024-03-04T00:11:39.897670Z",
     "start_time": "2024-03-04T00:11:39.266330Z"
    }
   },
   "outputs": [],
   "source": [
    "raw_data = pd.read_pickle(r'/Users/zhihongqiu/Downloads/Simon-Chicago/CHICAGO/Machine Learning/course_files_export/Lecture 3, Jan 11,2024/dataset.pkl')\n",
    "\n",
    "raw_data.head()\n",
    "data = raw_data[raw_data['market_cap'] > 1000.0]\n",
    "data = data.copy()\n",
    "data.fillna(0.0, inplace=True)"
   ]
  },
  {
   "cell_type": "code",
   "execution_count": 9,
   "id": "48488ad8dbcef4e9",
   "metadata": {
    "ExecuteTime": {
     "end_time": "2024-03-04T00:11:42.032489Z",
     "start_time": "2024-03-04T00:11:42.016059Z"
    }
   },
   "outputs": [],
   "source": [
    "#label function\n",
    "def f(x):\n",
    "    if x > 0.01:\n",
    "        return 1\n",
    "    elif x < -0.025:\n",
    "        return -1\n",
    "    else:\n",
    "    \n",
    "        return 0"
   ]
  },
  {
   "cell_type": "code",
   "execution_count": 10,
   "id": "3b6a67cf9a5eea14",
   "metadata": {
    "ExecuteTime": {
     "end_time": "2024-03-04T00:11:42.671978Z",
     "start_time": "2024-03-04T00:11:42.653066Z"
    }
   },
   "outputs": [],
   "source": [
    "data['rel_performance'] = data['pred_rel_return'].apply(f)\n",
    "data.reset_index(inplace=True)\n",
    "data.set_index('date',inplace=True)"
   ]
  },
  {
   "cell_type": "code",
   "execution_count": 11,
   "id": "435fd6167f9dd92d",
   "metadata": {
    "ExecuteTime": {
     "end_time": "2024-03-04T00:11:43.363655Z",
     "start_time": "2024-03-04T00:11:43.343640Z"
    }
   },
   "outputs": [],
   "source": [
    "start_dates = [pd.to_datetime('2001-01-01') + pd.DateOffset(months = 3*i) for i in range(57)]\n",
    "end_dates = [d + pd.DateOffset(months = 36) for d in start_dates]"
   ]
  },
  {
   "cell_type": "code",
   "execution_count": 12,
   "id": "b4c950df16b76b01",
   "metadata": {
    "ExecuteTime": {
     "end_time": "2024-03-04T00:11:44.591677Z",
     "start_time": "2024-03-04T00:11:44.549843Z"
    }
   },
   "outputs": [],
   "source": [
    "training_frames = [data.loc[d:d+pd.DateOffset(months = 36)] for d in start_dates]\n",
    "valid_frames = [data.loc[d+pd.DateOffset(months = 3):d+pd.DateOffset(months = 6)] for d in end_dates]\n",
    "test_frames = [data.loc[d+pd.DateOffset(months = 9):d+pd.DateOffset(months = 12)] for d in end_dates]"
   ]
  },
  {
   "cell_type": "code",
   "execution_count": 13,
   "id": "9a4f4bc74352a52a",
   "metadata": {
    "ExecuteTime": {
     "end_time": "2024-03-04T00:11:46.807952Z",
     "start_time": "2024-03-04T00:11:45.984021Z"
    }
   },
   "outputs": [],
   "source": [
    "training_data = [d.reset_index().drop\n",
    "                 (['ticker', 'date',\n",
    "                   'next_period_return',\n",
    "                   'spy_next_period_return',\n",
    "                   'rel_performance', 'pred_rel_return',\n",
    "                   'return', 'cum_ret', 'spy_cum_ret'], axis=1) for d in training_frames]\n",
    "valid_data = [d.reset_index().drop\n",
    "              (['ticker', 'date',\n",
    "                'next_period_return',\n",
    "                'spy_next_period_return',\n",
    "                'rel_performance', 'pred_rel_return',\n",
    "                'return', 'cum_ret', 'spy_cum_ret'], axis=1) for d in valid_frames]\n",
    "test_data = [d.reset_index().drop(['ticker', 'date',\n",
    "                                   'next_period_return',\n",
    "                                   'spy_next_period_return',\n",
    "                                   'rel_performance', 'pred_rel_return',\n",
    "                                   'return', 'cum_ret', 'spy_cum_ret'], axis=1) for d in test_frames]"
   ]
  },
  {
   "cell_type": "code",
   "execution_count": 14,
   "id": "469b236ceec703d1",
   "metadata": {
    "ExecuteTime": {
     "end_time": "2024-03-03T22:11:13.904146Z",
     "start_time": "2024-03-03T22:11:13.802476Z"
    }
   },
   "outputs": [],
   "source": [
    "training_data = [d[selected_features_RF] for d in training_data]\n",
    "valid_data=[d[selected_features_RF] for d in valid_data]\n",
    "test_data=[d[selected_features_RF] for d in test_data]"
   ]
  },
  {
   "cell_type": "code",
   "execution_count": 15,
   "id": "30435421d11c6c4f",
   "metadata": {
    "ExecuteTime": {
     "end_time": "2024-03-03T22:11:13.912066Z",
     "start_time": "2024-03-03T22:11:13.906548Z"
    }
   },
   "outputs": [],
   "source": [
    "training_labels = [d['rel_performance'].values for d in training_frames]\n",
    "valid_labels = [d['rel_performance'].values for d in valid_frames] "
   ]
  },
  {
   "cell_type": "code",
   "execution_count": 16,
   "id": "869696cbec4f43c9",
   "metadata": {
    "ExecuteTime": {
     "end_time": "2024-03-03T22:11:14.073738Z",
     "start_time": "2024-03-03T22:11:13.909105Z"
    }
   },
   "outputs": [],
   "source": [
    "for i in range(len(start_dates)-1):\n",
    "    float_vars = [x for x in training_data[i].columns if data[x].dtype == 'float64']\n",
    "\n",
    "    scaler = StandardScaler()\n",
    "    training_data[i] = training_data[i].copy()\n",
    "    valid_data[i] = valid_data[i].copy()\n",
    "    test_data[i] = test_data[i].copy()\n",
    "    training_data[i][float_vars] = scaler.fit_transform(training_data[i][float_vars])\n",
    "    valid_data[i][float_vars] = scaler.transform(valid_data[i][float_vars])\n",
    "    test_data[i][float_vars] = scaler.transform(test_data[i][float_vars])\n",
    "        \n",
    "    "
   ]
  },
  {
   "cell_type": "code",
   "execution_count": 17,
   "id": "74587510138c6f17",
   "metadata": {
    "ExecuteTime": {
     "end_time": "2024-03-03T22:11:14.077115Z",
     "start_time": "2024-03-03T22:11:14.074933Z"
    }
   },
   "outputs": [],
   "source": [
    "import optuna\n",
    "from optuna.trial import Trial\n",
    "optuna.logging.set_verbosity(optuna.logging.FATAL)\n",
    "import warnings\n",
    "warnings.filterwarnings(\"ignore\")"
   ]
  },
  {
   "cell_type": "code",
   "execution_count": 18,
   "id": "2fee4a95485af93d",
   "metadata": {
    "ExecuteTime": {
     "end_time": "2024-03-03T22:11:14.079564Z",
     "start_time": "2024-03-03T22:11:14.076975Z"
    }
   },
   "outputs": [],
   "source": [
    "def calculate_max_drawdown(returns):\n",
    "    peak = returns.max()\n",
    "    drawdown = (returns - peak) / peak\n",
    "    max_drawdown = drawdown.min()\n",
    "    return max_drawdown"
   ]
  },
  {
   "cell_type": "code",
   "execution_count": 19,
   "id": "116c4ad2da235a7d",
   "metadata": {
    "ExecuteTime": {
     "end_time": "2024-03-03T22:11:14.081994Z",
     "start_time": "2024-03-03T22:11:14.080117Z"
    }
   },
   "outputs": [],
   "source": [
    "def max_drawdown(returns):\n",
    "        local_max = [n for n in range(len(returns)-1) if ((n==0) and (returns[0] > returns[1])) or \n",
    "           ((n > 0) and  (returns[n-1]<returns[n]) and (returns[n+1]<returns[n]))] \n",
    "        \n",
    "        local_min = [n for n in range(1,len(returns)) if ((n == len(returns)-1) and (returns[-1] < returns[-2])) or\n",
    "                (returns[n-1]>returns[n]) and (returns[n+1]>returns[n])]\n",
    "        \n",
    "        def next_local_min(n):\n",
    "            if [m for m in local_min if m > n]:\n",
    "                return [m for m in local_min if m > n][0]\n",
    "            else: return None\n",
    "        \n",
    "        drawdowns = [(n,next_local_min(n)) for n in local_max]\n",
    "        drawdown_values = [returns[n] - returns[m] for (n,m) in drawdowns if m != None]\n",
    "        if drawdown_values:\n",
    "            return  np.max(drawdown_values)\n",
    "        else: return 0.0"
   ]
  },
  {
   "cell_type": "code",
   "execution_count": 20,
   "id": "bdd90a8084d7d29d",
   "metadata": {
    "ExecuteTime": {
     "end_time": "2024-03-03T22:11:14.084926Z",
     "start_time": "2024-03-03T22:11:14.082789Z"
    }
   },
   "outputs": [],
   "source": [
    "#this is the object to focus on the profit only\n",
    "def objective(trial:Trial,train=None,labels=None,val=None,val_labels=None,val_rets=None):\n",
    "\n",
    "    ada_m_depth = trial.suggest_int('max_depth',1,2,step=1)\n",
    "    ada_n_estimators = trial.suggest_int('n_estimators', 30,60,step=5)\n",
    "    ada_learning_rate = trial.suggest_float('learning_rate',0.2,0.5, step=0.1)\n",
    "\n",
    "    \n",
    "    ada_clf = AdaBoostClassifier(DecisionTreeClassifier(max_depth=ada_m_depth),\n",
    "                                 n_estimators=ada_n_estimators,\n",
    "                                 learning_rate=ada_learning_rate,\n",
    "                                 algorithm=\"SAMME.R\")\n",
    "\n",
    "    ada_clf.fit(train,labels)\n",
    "    preds = ada_clf.predict(val)\n",
    "    accuracy = ada_clf.score(val,val_labels)\n",
    "    mdd = max_drawdown(preds*val_rets.values)\n",
    "    profit = (preds * val_rets).sum()\n",
    "    risk =  (preds * val_rets).std()\n",
    "\n",
    "    w1, w2, w3 = 0, 1, 0  # Example weights\n",
    "    composite_score = (w1 * mdd) + (w2 * profit) - (w3 * risk)\n",
    "    \n",
    "    return composite_score"
   ]
  },
  {
   "cell_type": "code",
   "execution_count": null,
   "id": "f7631d36eb2a65cf",
   "metadata": {
    "ExecuteTime": {
     "end_time": "2024-03-03T22:15:15.860662Z",
     "start_time": "2024-03-03T22:11:14.085809Z"
    }
   },
   "outputs": [
    {
     "name": "stdout",
     "output_type": "stream",
     "text": [
      "{'max_depth': 2, 'n_estimators': 40, 'learning_rate': 0.5}\n",
      "{'max_depth': 1, 'n_estimators': 30, 'learning_rate': 0.30000000000000004}\n",
      "{'max_depth': 2, 'n_estimators': 30, 'learning_rate': 0.2}\n",
      "{'max_depth': 2, 'n_estimators': 60, 'learning_rate': 0.30000000000000004}\n",
      "{'max_depth': 2, 'n_estimators': 40, 'learning_rate': 0.2}\n",
      "{'max_depth': 2, 'n_estimators': 45, 'learning_rate': 0.5}\n",
      "{'max_depth': 1, 'n_estimators': 30, 'learning_rate': 0.2}\n",
      "{'max_depth': 2, 'n_estimators': 50, 'learning_rate': 0.5}\n",
      "{'max_depth': 2, 'n_estimators': 60, 'learning_rate': 0.5}\n",
      "{'max_depth': 1, 'n_estimators': 60, 'learning_rate': 0.2}\n",
      "{'max_depth': 1, 'n_estimators': 30, 'learning_rate': 0.30000000000000004}\n",
      "{'max_depth': 1, 'n_estimators': 30, 'learning_rate': 0.30000000000000004}\n",
      "{'max_depth': 1, 'n_estimators': 60, 'learning_rate': 0.5}\n",
      "{'max_depth': 2, 'n_estimators': 35, 'learning_rate': 0.30000000000000004}\n",
      "{'max_depth': 2, 'n_estimators': 45, 'learning_rate': 0.5}\n",
      "{'max_depth': 2, 'n_estimators': 35, 'learning_rate': 0.2}\n",
      "{'max_depth': 2, 'n_estimators': 60, 'learning_rate': 0.4}\n",
      "{'max_depth': 2, 'n_estimators': 50, 'learning_rate': 0.5}\n",
      "{'max_depth': 2, 'n_estimators': 50, 'learning_rate': 0.30000000000000004}\n",
      "{'max_depth': 1, 'n_estimators': 45, 'learning_rate': 0.2}\n",
      "{'max_depth': 1, 'n_estimators': 30, 'learning_rate': 0.2}\n",
      "{'max_depth': 1, 'n_estimators': 35, 'learning_rate': 0.30000000000000004}\n",
      "{'max_depth': 1, 'n_estimators': 30, 'learning_rate': 0.2}\n",
      "{'max_depth': 1, 'n_estimators': 30, 'learning_rate': 0.2}\n",
      "{'max_depth': 1, 'n_estimators': 45, 'learning_rate': 0.4}\n",
      "{'max_depth': 1, 'n_estimators': 30, 'learning_rate': 0.2}\n",
      "{'max_depth': 1, 'n_estimators': 40, 'learning_rate': 0.2}\n",
      "{'max_depth': 1, 'n_estimators': 55, 'learning_rate': 0.4}\n"
     ]
    }
   ],
   "source": [
    "optimal_hyperparameters = []\n",
    "from functools import partial\n",
    "\n",
    "for i in range(len(start_dates) - 1):\n",
    "    study = optuna.create_study(direction=\"maximize\")\n",
    "\n",
    "    study.optimize(partial(objective,\n",
    "                           train=training_data[i],\n",
    "                           labels=training_labels[i],\n",
    "                           val=valid_data[i],\n",
    "                           val_labels=valid_labels[i],\n",
    "                           val_rets=valid_frames[i]['next_period_return']), n_trials=25, n_jobs=-1)\n",
    "\n",
    "    optimal_hyperparameters.append(study.best_params)\n",
    "    print(study.best_params)\n"
   ]
  },
  {
   "cell_type": "code",
   "execution_count": null,
   "id": "d746c2e81ac0c6b5",
   "metadata": {
    "ExecuteTime": {
     "end_time": "2024-03-03T22:16:04.241164Z",
     "start_time": "2024-03-03T22:15:15.861725Z"
    }
   },
   "outputs": [],
   "source": [
    "classifiers = []\n",
    "for hyp_par in optimal_hyperparameters:\n",
    "    max_depth = hyp_par['max_depth']\n",
    "    n_estimators = hyp_par['n_estimators']\n",
    "    learning_rate = hyp_par['learning_rate']\n",
    "    ada_clf = AdaBoostClassifier(DecisionTreeClassifier(max_depth=max_depth), n_estimators=n_estimators,\n",
    "                                 learning_rate=learning_rate)\n",
    "    classifiers.append(ada_clf)\n",
    "for i in range(len(start_dates) - 1):\n",
    "    classifiers[i].fit(training_data[i], training_labels[i])\n",
    "with open(r'classifiers_ada_01.pkl', 'wb') as f:\n",
    "    cPickle.dump(classifiers, f)\n",
    "with open(r'classifiers_ada_01.pkl', 'rb') as f:\n",
    "    classifiers = cPickle.load(f)\n",
    "\n",
    "\n",
    "def adaboost_feat_importances(m, df):\n",
    "    return pd.DataFrame({'cols': df.columns, 'feat_imp': m.feature_importances_}\n",
    "                        ).sort_values('feat_imp', ascending=False)"
   ]
  },
  {
   "cell_type": "code",
   "execution_count": null,
   "id": "8ff84046b400914d",
   "metadata": {
    "ExecuteTime": {
     "end_time": "2024-03-03T22:16:52.861583Z",
     "start_time": "2024-03-03T22:16:04.243615Z"
    }
   },
   "outputs": [],
   "source": [
    "\n",
    "scalers = [StandardScaler() for i in range(len(start_dates) - 1)]\n",
    "\n",
    "opt_training_data = [\n",
    "    pd.DataFrame(scalers[i].fit_transform(training_frames[i][selected_features_RF].values), columns=selected_features_RF) for i\n",
    "    in range(len(start_dates) - 1)]\n",
    "opt_valid_data = [\n",
    "    pd.DataFrame(scalers[i].fit_transform(training_frames[i][selected_features_RF].values), columns=selected_features_RF) for i\n",
    "    in range(len(start_dates) - 1)]\n",
    "opt_test_data = [pd.DataFrame(scalers[i].transform(test_frames[i][selected_features_RF].values), columns=selected_features_RF)\n",
    "                 for i in range(len(start_dates) - 1)]\n",
    "x = [1]\n",
    "ret = []\n",
    "\n",
    "for i in range(len(start_dates) - 1):\n",
    "    classifiers[i].fit(opt_training_data[i], training_labels[i])\n",
    "\n",
    "    preds = classifiers[i].predict(opt_test_data[i])\n",
    "    profit_i = (preds * test_frames[i]['next_period_return']).sum()\n",
    "    ret.append(profit_i)\n",
    "    num_names = len(opt_test_data[i])\n",
    "    x.append(x[i] + (x[i] / num_names) * profit_i)\n",
    "SPY = pd.read_pickle(r'/Users/zhihongqiu/Downloads/Simon-Chicago/CHICAGO/Machine Learning/course_files_export/Lecture 2/SPY_cum_ret.pkl')\n",
    "SPY = SPY.loc['2004-09-01':'2018-09-30']\n",
    "SPY = SPY.resample('Q').ffill()\n",
    "SPY['spy_cum_ret'] = (SPY['spy_cum_ret'] - SPY['spy_cum_ret'][0] + 1)\n",
    "SPY['strategy'] = x\n",
    "SPY.plot();"
   ]
  },
  {
   "cell_type": "code",
   "execution_count": null,
   "id": "fe0c00ead1c34fc2",
   "metadata": {
    "ExecuteTime": {
     "end_time": "2024-03-03T22:16:52.864652Z",
     "start_time": "2024-03-03T22:16:52.861078Z"
    }
   },
   "outputs": [],
   "source": [
    "calculate_max_drawdown(SPY['strategy'])"
   ]
  },
  {
   "cell_type": "code",
   "execution_count": null,
   "id": "3986a8554ff85e45",
   "metadata": {
    "ExecuteTime": {
     "end_time": "2024-03-03T22:16:52.868231Z",
     "start_time": "2024-03-03T22:16:52.864282Z"
    }
   },
   "outputs": [],
   "source": [
    "calculate_max_drawdown(SPY['spy_cum_ret'])"
   ]
  },
  {
   "cell_type": "code",
   "execution_count": null,
   "id": "c70561d5aa8a233c",
   "metadata": {
    "ExecuteTime": {
     "end_time": "2024-03-03T22:16:52.926926Z",
     "start_time": "2024-03-03T22:16:52.868536Z"
    }
   },
   "outputs": [],
   "source": [
    "#this is the PL matrix\n",
    "PL_data=SPY.diff()['strategy'].dropna()\n",
    "PL_data.plot()"
   ]
  },
  {
   "cell_type": "code",
   "execution_count": null,
   "id": "1f1bf65aff074606",
   "metadata": {
    "ExecuteTime": {
     "end_time": "2024-03-03T22:16:52.929320Z",
     "start_time": "2024-03-03T22:16:52.924558Z"
    }
   },
   "outputs": [],
   "source": [
    "\n",
    "strategy_mean_ret = (SPY['strategy'] - 1).diff().mean()\n",
    "strategy_std = (SPY['strategy'] - 1).diff().std()\n",
    "strategy_sr = strategy_mean_ret / strategy_std\n",
    "print('Strategy Sharpe Ratio: ', strategy_sr)"
   ]
  },
  {
   "cell_type": "code",
   "execution_count": null,
   "id": "35876fedf550a024",
   "metadata": {
    "ExecuteTime": {
     "end_time": "2024-03-03T22:16:52.940116Z",
     "start_time": "2024-03-03T22:16:52.927301Z"
    }
   },
   "outputs": [],
   "source": [
    "#this is the first strategy which only focus on profit\n",
    "Strategy_1=SPY['strategy']"
   ]
  },
  {
   "cell_type": "code",
   "execution_count": null,
   "id": "32cceb5807f131d1",
   "metadata": {
    "ExecuteTime": {
     "end_time": "2024-03-03T22:16:52.942612Z",
     "start_time": "2024-03-03T22:16:52.930548Z"
    }
   },
   "outputs": [],
   "source": [
    "#now we try to focus on the mdd\n",
    "def objective(trial:Trial,train=None,labels=None,val=None,val_labels=None,val_rets=None):\n",
    "\n",
    "    ada_m_depth = trial.suggest_int('max_depth',1,2,step=1)\n",
    "    ada_n_estimators = trial.suggest_int('n_estimators', 30,80,step=5)\n",
    "    ada_learning_rate = trial.suggest_float('learning_rate',0.2,0.5, step=0.1)\n",
    "\n",
    "    \n",
    "    ada_clf = AdaBoostClassifier(DecisionTreeClassifier(max_depth=ada_m_depth),\n",
    "                                 n_estimators=ada_n_estimators,\n",
    "                                 learning_rate=ada_learning_rate,\n",
    "                                 algorithm=\"SAMME.R\")\n",
    "\n",
    "    ada_clf.fit(train,labels)\n",
    "    preds = ada_clf.predict(val)\n",
    "    accuracy = ada_clf.score(val,val_labels)\n",
    "    mdd = max_drawdown(preds*val_rets.values)\n",
    "    profit = (preds * val_rets).sum()\n",
    "    risk =  (preds * val_rets).std()\n",
    "\n",
    "    w1, w2, w3 = 0, 1, 0  # Example weights\n",
    "    composite_score = (w1 * mdd) + (w2 * profit) - (w3 * risk)\n",
    "    \n",
    "    return mdd"
   ]
  },
  {
   "cell_type": "code",
   "execution_count": null,
   "id": "e1fb54a1fe1f3f82",
   "metadata": {
    "ExecuteTime": {
     "end_time": "2024-03-03T22:31:33.710361Z",
     "start_time": "2024-03-03T22:16:52.933627Z"
    }
   },
   "outputs": [],
   "source": [
    "optimal_hyperparameters = []\n",
    "from functools import partial\n",
    "\n",
    "for i in range(len(start_dates) - 1):\n",
    "    study = optuna.create_study(direction=\"maximize\")\n",
    "\n",
    "    study.optimize(partial(objective,\n",
    "                           train=training_data[i],\n",
    "                           labels=training_labels[i],\n",
    "                           val=valid_data[i],\n",
    "                           val_labels=valid_labels[i],\n",
    "                           val_rets=valid_frames[i]['next_period_return']), n_trials=25, n_jobs=-1)\n",
    "\n",
    "    optimal_hyperparameters.append(study.best_params)\n",
    "    print(study.best_params)\n"
   ]
  },
  {
   "cell_type": "code",
   "execution_count": null,
   "id": "b74b328bf56c06e0",
   "metadata": {
    "ExecuteTime": {
     "end_time": "2024-03-03T22:32:24.196706Z",
     "start_time": "2024-03-03T22:31:33.712790Z"
    }
   },
   "outputs": [],
   "source": [
    "classifiers = []\n",
    "for hyp_par in optimal_hyperparameters:\n",
    "    max_depth = hyp_par['max_depth']\n",
    "    n_estimators = hyp_par['n_estimators']\n",
    "    learning_rate = hyp_par['learning_rate']\n",
    "    ada_clf = AdaBoostClassifier(DecisionTreeClassifier(max_depth=max_depth), n_estimators=n_estimators,\n",
    "                                 learning_rate=learning_rate)\n",
    "    classifiers.append(ada_clf)\n",
    "for i in range(len(start_dates) - 1):\n",
    "    classifiers[i].fit(training_data[i], training_labels[i])\n",
    "with open(r'classifiers_ada_01.pkl', 'wb') as f:\n",
    "    cPickle.dump(classifiers, f)\n",
    "with open(r'classifiers_ada_01.pkl', 'rb') as f:\n",
    "    classifiers = cPickle.load(f)\n",
    "\n",
    "\n",
    "def adaboost_feat_importances(m, df):\n",
    "    return pd.DataFrame({'cols': df.columns, 'feat_imp': m.feature_importances_}\n",
    "                        ).sort_values('feat_imp', ascending=False)"
   ]
  },
  {
   "cell_type": "code",
   "execution_count": 32,
   "id": "74c546f716eb6d65",
   "metadata": {
    "ExecuteTime": {
     "end_time": "2024-03-03T22:33:15.489051Z",
     "start_time": "2024-03-03T22:32:24.199196Z"
    }
   },
   "outputs": [
    {
     "data": {
      "image/png": "[encoded data removed]",
      "text/plain": [
       "<Figure size 640x480 with 1 Axes>"
      ]
     },
     "metadata": {},
     "output_type": "display_data"
    }
   ],
   "source": [
    "\n",
    "scalers = [StandardScaler() for i in range(len(start_dates) - 1)]\n",
    "\n",
    "opt_training_data = [\n",
    "    pd.DataFrame(scalers[i].fit_transform(training_frames[i][selected_features_RF].values), columns=selected_features_RF) for i\n",
    "    in range(len(start_dates) - 1)]\n",
    "opt_valid_data = [\n",
    "    pd.DataFrame(scalers[i].fit_transform(training_frames[i][selected_features_RF].values), columns=selected_features_RF) for i\n",
    "    in range(len(start_dates) - 1)]\n",
    "opt_test_data = [pd.DataFrame(scalers[i].transform(test_frames[i][selected_features_RF].values), columns=selected_features_RF)\n",
    "                 for i in range(len(start_dates) - 1)]\n",
    "x = [1]\n",
    "ret = []\n",
    "\n",
    "for i in range(len(start_dates) - 1):\n",
    "    classifiers[i].fit(opt_training_data[i], training_labels[i])\n",
    "\n",
    "    preds = classifiers[i].predict(opt_test_data[i])\n",
    "    profit_i = (preds * test_frames[i]['next_period_return']).sum()\n",
    "    ret.append(profit_i)\n",
    "    num_names = len(opt_test_data[i])\n",
    "    x.append(x[i] + (x[i] / num_names) * profit_i)\n",
    "SPY = pd.read_pickle(r'/Users/zhihongqiu/Downloads/Simon-Chicago/CHICAGO/Machine Learning/course_files_export/Lecture 2/SPY_cum_ret.pkl')\n",
    "SPY = SPY.loc['2004-09-01':'2018-09-30']\n",
    "SPY = SPY.resample('Q').ffill()\n",
    "SPY['spy_cum_ret'] = (SPY['spy_cum_ret'] - SPY['spy_cum_ret'][0] + 1)\n",
    "SPY['strategy'] = x\n",
    "SPY.plot();"
   ]
  },
  {
   "cell_type": "code",
   "execution_count": 33,
   "id": "5df41d57de74d6a0",
   "metadata": {
    "ExecuteTime": {
     "end_time": "2024-03-03T22:33:15.492528Z",
     "start_time": "2024-03-03T22:33:15.488951Z"
    }
   },
   "outputs": [
    {
     "data": {
      "text/plain": [
       "-0.7679934483584403"
      ]
     },
     "execution_count": 33,
     "metadata": {},
     "output_type": "execute_result"
    }
   ],
   "source": [
    "calculate_max_drawdown(SPY['strategy'])"
   ]
  },
  {
   "cell_type": "code",
   "execution_count": 34,
   "id": "1cf765810199ce93",
   "metadata": {
    "ExecuteTime": {
     "end_time": "2024-03-03T22:33:15.496576Z",
     "start_time": "2024-03-03T22:33:15.491743Z"
    }
   },
   "outputs": [
    {
     "data": {
      "text/plain": [
       "-0.644186245477079"
      ]
     },
     "execution_count": 34,
     "metadata": {},
     "output_type": "execute_result"
    }
   ],
   "source": [
    "calculate_max_drawdown(SPY['spy_cum_ret'])"
   ]
  },
  {
   "cell_type": "code",
   "execution_count": 35,
   "id": "9dad32e7a3bfd2ad",
   "metadata": {
    "ExecuteTime": {
     "end_time": "2024-03-03T22:33:15.563592Z",
     "start_time": "2024-03-03T22:33:15.494872Z"
    }
   },
   "outputs": [
    {
     "data": {
      "text/plain": [
       "<Axes: xlabel='date'>"
      ]
     },
     "execution_count": 35,
     "metadata": {},
     "output_type": "execute_result"
    },
    {
     "data": {
      "image/png": "[encoded data removed]",
      "text/plain": [
       "<Figure size 640x480 with 1 Axes>"
      ]
     },
     "metadata": {},
     "output_type": "display_data"
    }
   ],
   "source": [
    "#this is the PL matrix\n",
    "PL_data=SPY.diff()['strategy'].dropna()\n",
    "PL_data.plot()"
   ]
  },
  {
   "cell_type": "code",
   "execution_count": 36,
   "id": "878385b652344862",
   "metadata": {
    "ExecuteTime": {
     "end_time": "2024-03-03T22:33:15.564874Z",
     "start_time": "2024-03-03T22:33:15.551180Z"
    }
   },
   "outputs": [],
   "source": [
    "#this is the second strategy which only focus on mdd\n",
    "Strategy_2=SPY['strategy']"
   ]
  },
  {
   "cell_type": "code",
   "execution_count": 37,
   "id": "a37816506a7447b3",
   "metadata": {
    "ExecuteTime": {
     "end_time": "2024-03-03T22:33:15.566331Z",
     "start_time": "2024-03-03T22:33:15.554523Z"
    }
   },
   "outputs": [
    {
     "name": "stdout",
     "output_type": "stream",
     "text": [
      "Strategy Sharpe Ratio:  0.46482698100354614\n"
     ]
    }
   ],
   "source": [
    "strategy_mean_ret = (SPY['strategy'] - 1).diff().mean()\n",
    "strategy_std = (SPY['strategy'] - 1).diff().std()\n",
    "strategy_sr = strategy_mean_ret / strategy_std\n",
    "print('Strategy Sharpe Ratio: ', strategy_sr)"
   ]
  },
  {
   "cell_type": "code",
   "execution_count": 38,
   "id": "783a5a85e4ab00f",
   "metadata": {
    "ExecuteTime": {
     "end_time": "2024-03-03T22:33:15.573072Z",
     "start_time": "2024-03-03T22:33:15.558261Z"
    }
   },
   "outputs": [],
   "source": [
    "#this is the object to focus on the accuracy only\n",
    "def objective(trial:Trial,train=None,labels=None,val=None,val_labels=None,val_rets=None):\n",
    "\n",
    "    ada_m_depth = trial.suggest_int('max_depth',1,3,step=1)\n",
    "    ada_n_estimators = trial.suggest_int('n_estimators', 30,80,step=5)\n",
    "    ada_learning_rate = trial.suggest_float('learning_rate',0.2,0.5, step=0.1)\n",
    "\n",
    "    \n",
    "    ada_clf = AdaBoostClassifier(DecisionTreeClassifier(max_depth=ada_m_depth),\n",
    "                                 n_estimators=ada_n_estimators,\n",
    "                                 learning_rate=ada_learning_rate,\n",
    "                                 algorithm=\"SAMME.R\")\n",
    "\n",
    "    ada_clf.fit(train,labels)\n",
    "    preds = ada_clf.predict(val)\n",
    "    accuracy = ada_clf.score(val,val_labels)\n",
    "    mdd = max_drawdown(preds*val_rets.values)\n",
    "    profit = (preds * val_rets).sum()\n",
    "    risk =  (preds * val_rets).std()\n",
    "\n",
    "    w1, w2, w3 = 0, 1, 0  # Example weights\n",
    "    composite_score = (w1 * mdd) + (w2 * profit) - (w3 * risk)\n",
    "    \n",
    "    return accuracy"
   ]
  },
  {
   "cell_type": "code",
   "execution_count": 39,
   "id": "d268d67984002a6c",
   "metadata": {
    "ExecuteTime": {
     "end_time": "2024-03-03T22:39:38.920137Z",
     "start_time": "2024-03-03T22:33:15.567964Z"
    }
   },
   "outputs": [
    {
     "name": "stdout",
     "output_type": "stream",
     "text": [
      "{'max_depth': 3, 'n_estimators': 40, 'learning_rate': 0.30000000000000004}\n",
      "{'max_depth': 2, 'n_estimators': 30, 'learning_rate': 0.2}\n",
      "{'max_depth': 3, 'n_estimators': 35, 'learning_rate': 0.4}\n",
      "{'max_depth': 3, 'n_estimators': 30, 'learning_rate': 0.4}\n",
      "{'max_depth': 1, 'n_estimators': 60, 'learning_rate': 0.4}\n",
      "{'max_depth': 3, 'n_estimators': 75, 'learning_rate': 0.4}\n",
      "{'max_depth': 1, 'n_estimators': 35, 'learning_rate': 0.30000000000000004}\n",
      "{'max_depth': 3, 'n_estimators': 30, 'learning_rate': 0.2}\n",
      "{'max_depth': 3, 'n_estimators': 35, 'learning_rate': 0.5}\n",
      "{'max_depth': 3, 'n_estimators': 45, 'learning_rate': 0.30000000000000004}\n",
      "{'max_depth': 2, 'n_estimators': 45, 'learning_rate': 0.5}\n",
      "{'max_depth': 3, 'n_estimators': 50, 'learning_rate': 0.5}\n",
      "{'max_depth': 1, 'n_estimators': 65, 'learning_rate': 0.5}\n",
      "{'max_depth': 3, 'n_estimators': 30, 'learning_rate': 0.5}\n",
      "{'max_depth': 1, 'n_estimators': 70, 'learning_rate': 0.2}\n",
      "{'max_depth': 2, 'n_estimators': 35, 'learning_rate': 0.4}\n",
      "{'max_depth': 2, 'n_estimators': 80, 'learning_rate': 0.4}\n",
      "{'max_depth': 3, 'n_estimators': 80, 'learning_rate': 0.5}\n",
      "{'max_depth': 3, 'n_estimators': 55, 'learning_rate': 0.2}\n",
      "{'max_depth': 1, 'n_estimators': 35, 'learning_rate': 0.30000000000000004}\n",
      "{'max_depth': 1, 'n_estimators': 40, 'learning_rate': 0.30000000000000004}\n",
      "{'max_depth': 2, 'n_estimators': 30, 'learning_rate': 0.2}\n",
      "{'max_depth': 1, 'n_estimators': 65, 'learning_rate': 0.2}\n",
      "{'max_depth': 1, 'n_estimators': 30, 'learning_rate': 0.2}\n",
      "{'max_depth': 1, 'n_estimators': 45, 'learning_rate': 0.4}\n",
      "{'max_depth': 3, 'n_estimators': 70, 'learning_rate': 0.2}\n",
      "{'max_depth': 1, 'n_estimators': 40, 'learning_rate': 0.2}\n",
      "{'max_depth': 1, 'n_estimators': 75, 'learning_rate': 0.4}\n",
      "{'max_depth': 3, 'n_estimators': 50, 'learning_rate': 0.5}\n",
      "{'max_depth': 3, 'n_estimators': 30, 'learning_rate': 0.4}\n",
      "{'max_depth': 2, 'n_estimators': 30, 'learning_rate': 0.2}\n",
      "{'max_depth': 3, 'n_estimators': 75, 'learning_rate': 0.2}\n",
      "{'max_depth': 2, 'n_estimators': 80, 'learning_rate': 0.30000000000000004}\n",
      "{'max_depth': 1, 'n_estimators': 30, 'learning_rate': 0.30000000000000004}\n",
      "{'max_depth': 1, 'n_estimators': 70, 'learning_rate': 0.2}\n",
      "{'max_depth': 3, 'n_estimators': 45, 'learning_rate': 0.5}\n",
      "{'max_depth': 3, 'n_estimators': 30, 'learning_rate': 0.2}\n",
      "{'max_depth': 1, 'n_estimators': 35, 'learning_rate': 0.4}\n",
      "{'max_depth': 3, 'n_estimators': 65, 'learning_rate': 0.30000000000000004}\n",
      "{'max_depth': 1, 'n_estimators': 40, 'learning_rate': 0.4}\n",
      "{'max_depth': 3, 'n_estimators': 45, 'learning_rate': 0.4}\n",
      "{'max_depth': 2, 'n_estimators': 80, 'learning_rate': 0.4}\n",
      "{'max_depth': 2, 'n_estimators': 40, 'learning_rate': 0.5}\n",
      "{'max_depth': 1, 'n_estimators': 40, 'learning_rate': 0.2}\n",
      "{'max_depth': 3, 'n_estimators': 65, 'learning_rate': 0.30000000000000004}\n",
      "{'max_depth': 1, 'n_estimators': 65, 'learning_rate': 0.30000000000000004}\n",
      "{'max_depth': 2, 'n_estimators': 40, 'learning_rate': 0.2}\n",
      "{'max_depth': 3, 'n_estimators': 45, 'learning_rate': 0.2}\n",
      "{'max_depth': 1, 'n_estimators': 55, 'learning_rate': 0.4}\n",
      "{'max_depth': 1, 'n_estimators': 40, 'learning_rate': 0.4}\n",
      "{'max_depth': 2, 'n_estimators': 30, 'learning_rate': 0.2}\n",
      "{'max_depth': 1, 'n_estimators': 40, 'learning_rate': 0.30000000000000004}\n",
      "{'max_depth': 2, 'n_estimators': 40, 'learning_rate': 0.5}\n",
      "{'max_depth': 3, 'n_estimators': 40, 'learning_rate': 0.2}\n",
      "{'max_depth': 3, 'n_estimators': 50, 'learning_rate': 0.5}\n",
      "{'max_depth': 1, 'n_estimators': 45, 'learning_rate': 0.2}\n"
     ]
    }
   ],
   "source": [
    "optimal_hyperparameters = []\n",
    "from functools import partial\n",
    "\n",
    "for i in range(len(start_dates) - 1):\n",
    "    study = optuna.create_study(direction=\"maximize\")\n",
    "\n",
    "    study.optimize(partial(objective,\n",
    "                           train=training_data[i],\n",
    "                           labels=training_labels[i],\n",
    "                           val=valid_data[i],\n",
    "                           val_labels=valid_labels[i],\n",
    "                           val_rets=valid_frames[i]['next_period_return']), n_trials=25, n_jobs=-1)\n",
    "\n",
    "    optimal_hyperparameters.append(study.best_params)\n",
    "    print(study.best_params)\n"
   ]
  },
  {
   "cell_type": "code",
   "execution_count": 40,
   "id": "c1f3e1ec82f93002",
   "metadata": {
    "ExecuteTime": {
     "end_time": "2024-03-03T22:40:58.984725Z",
     "start_time": "2024-03-03T22:39:38.922990Z"
    }
   },
   "outputs": [],
   "source": [
    "classifiers = []\n",
    "for hyp_par in optimal_hyperparameters:\n",
    "    max_depth = hyp_par['max_depth']\n",
    "    n_estimators = hyp_par['n_estimators']\n",
    "    learning_rate = hyp_par['learning_rate']\n",
    "    ada_clf = AdaBoostClassifier(DecisionTreeClassifier(max_depth=max_depth), n_estimators=n_estimators,\n",
    "                                 learning_rate=learning_rate)\n",
    "    classifiers.append(ada_clf)\n",
    "for i in range(len(start_dates) - 1):\n",
    "    classifiers[i].fit(training_data[i], training_labels[i])\n",
    "with open(r'classifiers_ada_01.pkl', 'wb') as f:\n",
    "    cPickle.dump(classifiers, f)\n",
    "with open(r'classifiers_ada_01.pkl', 'rb') as f:\n",
    "    classifiers = cPickle.load(f)\n",
    "\n",
    "\n",
    "def adaboost_feat_importances(m, df):\n",
    "    return pd.DataFrame({'cols': df.columns, 'feat_imp': m.feature_importances_}\n",
    "                        ).sort_values('feat_imp', ascending=False)"
   ]
  },
  {
   "cell_type": "code",
   "execution_count": 41,
   "id": "6d7636bfe5d1454b",
   "metadata": {
    "ExecuteTime": {
     "end_time": "2024-03-03T22:42:18.076323Z",
     "start_time": "2024-03-03T22:40:58.991479Z"
    }
   },
   "outputs": [
    {
     "data": {
      "image/png": "[encoded data removed]",
      "text/plain": [
       "<Figure size 640x480 with 1 Axes>"
      ]
     },
     "metadata": {},
     "output_type": "display_data"
    }
   ],
   "source": [
    "\n",
    "scalers = [StandardScaler() for i in range(len(start_dates) - 1)]\n",
    "\n",
    "opt_training_data = [\n",
    "    pd.DataFrame(scalers[i].fit_transform(training_frames[i][selected_features_RF].values), columns=selected_features_RF) for i\n",
    "    in range(len(start_dates) - 1)]\n",
    "opt_valid_data = [\n",
    "    pd.DataFrame(scalers[i].fit_transform(training_frames[i][selected_features_RF].values), columns=selected_features_RF) for i\n",
    "    in range(len(start_dates) - 1)]\n",
    "opt_test_data = [pd.DataFrame(scalers[i].transform(test_frames[i][selected_features_RF].values), columns=selected_features_RF)\n",
    "                 for i in range(len(start_dates) - 1)]\n",
    "x = [1]\n",
    "ret = []\n",
    "\n",
    "for i in range(len(start_dates) - 1):\n",
    "    classifiers[i].fit(opt_training_data[i], training_labels[i])\n",
    "\n",
    "    preds = classifiers[i].predict(opt_test_data[i])\n",
    "    profit_i = (preds * test_frames[i]['next_period_return']).sum()\n",
    "    ret.append(profit_i)\n",
    "    num_names = len(opt_test_data[i])\n",
    "    x.append(x[i] + (x[i] / num_names) * profit_i)\n",
    "SPY = pd.read_pickle(r'/Users/zhihongqiu/Downloads/Simon-Chicago/CHICAGO/Machine Learning/course_files_export/Lecture 2/SPY_cum_ret.pkl')\n",
    "SPY = SPY.loc['2004-09-01':'2018-09-30']\n",
    "SPY = SPY.resample('Q').ffill()\n",
    "SPY['spy_cum_ret'] = (SPY['spy_cum_ret'] - SPY['spy_cum_ret'][0] + 1)\n",
    "SPY['strategy'] = x\n",
    "SPY.plot();"
   ]
  },
  {
   "cell_type": "code",
   "execution_count": 42,
   "id": "22c04c48c5e1197a",
   "metadata": {
    "ExecuteTime": {
     "end_time": "2024-03-03T22:42:18.081857Z",
     "start_time": "2024-03-03T22:42:18.076445Z"
    }
   },
   "outputs": [
    {
     "data": {
      "text/plain": [
       "-0.7590080614260265"
      ]
     },
     "execution_count": 42,
     "metadata": {},
     "output_type": "execute_result"
    }
   ],
   "source": [
    "calculate_max_drawdown(SPY['strategy'])"
   ]
  },
  {
   "cell_type": "code",
   "execution_count": 43,
   "id": "6bc253d7c5c0a9db",
   "metadata": {
    "ExecuteTime": {
     "end_time": "2024-03-03T22:42:18.085746Z",
     "start_time": "2024-03-03T22:42:18.080605Z"
    }
   },
   "outputs": [
    {
     "data": {
      "text/plain": [
       "-0.644186245477079"
      ]
     },
     "execution_count": 43,
     "metadata": {},
     "output_type": "execute_result"
    }
   ],
   "source": [
    "calculate_max_drawdown(SPY['spy_cum_ret'])"
   ]
  },
  {
   "cell_type": "code",
   "execution_count": 44,
   "id": "1d2ed1855998721c",
   "metadata": {
    "ExecuteTime": {
     "end_time": "2024-03-03T22:42:18.149271Z",
     "start_time": "2024-03-03T22:42:18.082393Z"
    }
   },
   "outputs": [
    {
     "data": {
      "text/plain": [
       "<Axes: xlabel='date'>"
      ]
     },
     "execution_count": 44,
     "metadata": {},
     "output_type": "execute_result"
    },
    {
     "data": {
      "image/png": "[encoded data removed]",
      "text/plain": [
       "<Figure size 640x480 with 1 Axes>"
      ]
     },
     "metadata": {},
     "output_type": "display_data"
    }
   ],
   "source": [
    "#this is the PL matrix\n",
    "PL_data=SPY.diff()['strategy'].dropna()\n",
    "PL_data.plot()"
   ]
  },
  {
   "cell_type": "code",
   "execution_count": 45,
   "id": "edf8fb3368d11e58",
   "metadata": {
    "ExecuteTime": {
     "end_time": "2024-03-03T22:42:18.150605Z",
     "start_time": "2024-03-03T22:42:18.142455Z"
    }
   },
   "outputs": [
    {
     "name": "stdout",
     "output_type": "stream",
     "text": [
      "Strategy Sharpe Ratio:  0.437125662855956\n"
     ]
    }
   ],
   "source": [
    "strategy_mean_ret = (SPY['strategy'] - 1).diff().mean()\n",
    "strategy_std = (SPY['strategy'] - 1).diff().std()\n",
    "strategy_sr = strategy_mean_ret / strategy_std\n",
    "print('Strategy Sharpe Ratio: ', strategy_sr)"
   ]
  },
  {
   "cell_type": "code",
   "execution_count": 46,
   "id": "40766401e4910f6a",
   "metadata": {
    "ExecuteTime": {
     "end_time": "2024-03-03T22:42:18.151844Z",
     "start_time": "2024-03-03T22:42:18.144351Z"
    }
   },
   "outputs": [],
   "source": [
    "#this is the third strategy which only focus on mdd\n",
    "Strategy_3=SPY['strategy']"
   ]
  },
  {
   "cell_type": "markdown",
   "id": "704c82ef5dd8c667",
   "metadata": {},
   "source": [
    "Gradient Boost Strategy"
   ]
  },
  {
   "cell_type": "code",
   "execution_count": 10,
   "id": "ef2904f97f1db5c",
   "metadata": {
    "ExecuteTime": {
     "end_time": "2024-03-04T01:11:29.109520Z",
     "start_time": "2024-03-04T01:11:27.335973Z"
    }
   },
   "outputs": [],
   "source": [
    "raw_data = pd.read_pickle(\n",
    "    r'/Users/zhihongqiu/Downloads/Simon-Chicago/CHICAGO/Machine Learning/course_files_export/Lecture 3, Jan 11,2024/dataset.pkl')\n",
    "\n",
    "raw_data.head()\n",
    "data = raw_data[raw_data['market_cap'] > 1000.0]\n",
    "data = data.copy()\n",
    "data.fillna(0.0, inplace=True)\n",
    "\n",
    "\n",
    "#label function\n",
    "def f(x):\n",
    "    if x > 0.01:\n",
    "        return 1\n",
    "    elif x < -0.025:\n",
    "        return -1\n",
    "    else:\n",
    "\n",
    "        return 0\n",
    "\n",
    "\n",
    "data['rel_performance'] = data['pred_rel_return'].apply(f)\n",
    "data.reset_index(inplace=True)\n",
    "data.set_index('date', inplace=True)\n",
    "start_dates = [pd.to_datetime('2001-01-01') + pd.DateOffset(months=3 * i) for i in range(57)]\n",
    "end_dates = [d + pd.DateOffset(months=36) for d in start_dates]\n",
    "training_frames = [data.loc[d:d + pd.DateOffset(months=36)] for d in start_dates]\n",
    "valid_frames = [data.loc[d + pd.DateOffset(months=3):d + pd.DateOffset(months=6)] for d in end_dates]\n",
    "test_frames = [data.loc[d + pd.DateOffset(months=9):d + pd.DateOffset(months=12)] for d in end_dates]\n",
    "training_data = [d.reset_index().drop\n",
    "                 (['ticker', 'date',\n",
    "                   'next_period_return',\n",
    "                   'spy_next_period_return',\n",
    "                   'rel_performance', 'pred_rel_return',\n",
    "                   'return', 'cum_ret', 'spy_cum_ret'], axis=1) for d in training_frames]\n",
    "valid_data = [d.reset_index().drop\n",
    "              (['ticker', 'date',\n",
    "                'next_period_return',\n",
    "                'spy_next_period_return',\n",
    "                'rel_performance', 'pred_rel_return',\n",
    "                'return', 'cum_ret', 'spy_cum_ret'], axis=1) for d in valid_frames]\n",
    "test_data = [d.reset_index().drop(['ticker', 'date',\n",
    "                                   'next_period_return',\n",
    "                                   'spy_next_period_return',\n",
    "                                   'rel_performance', 'pred_rel_return',\n",
    "                                   'return', 'cum_ret', 'spy_cum_ret'], axis=1) for d in test_frames]\n",
    "training_data = [d[selected_features_GB] for d in training_data]\n",
    "valid_data = [d[selected_features_GB] for d in valid_data]\n",
    "test_data = [d[selected_features_GB] for d in test_data]\n",
    "training_labels = [d['rel_performance'].values for d in training_frames]\n",
    "valid_labels = [d['rel_performance'].values for d in valid_frames]\n",
    "for i in range(len(start_dates) - 1):\n",
    "    float_vars = [x for x in training_data[i].columns if data[x].dtype == 'float64']\n",
    "\n",
    "    scaler = StandardScaler()\n",
    "    training_data[i] = training_data[i].copy()\n",
    "    valid_data[i] = valid_data[i].copy()\n",
    "    test_data[i] = test_data[i].copy()\n",
    "    training_data[i][float_vars] = scaler.fit_transform(training_data[i][float_vars])\n",
    "    valid_data[i][float_vars] = scaler.transform(valid_data[i][float_vars])\n",
    "    test_data[i][float_vars] = scaler.transform(test_data[i][float_vars])\n",
    "\n"
   ]
  },
  {
   "cell_type": "code",
   "execution_count": 11,
   "id": "a09bec60dd051b62",
   "metadata": {
    "ExecuteTime": {
     "end_time": "2024-03-04T01:11:29.690299Z",
     "start_time": "2024-03-04T01:11:29.686781Z"
    }
   },
   "outputs": [],
   "source": [
    "#this takes way too long time to run\n",
    "def objective(trial:Trial,train=None,labels=None,val=None,val_labels=None,val_rets=None):\n",
    "    \n",
    "    params = {\n",
    "        \"objective\": \"multiclass\",\n",
    "        \"verbosity\": -1,\n",
    "        \"boosting_type\": \"gbdt\",\n",
    "        \"n_estimators\":trial.suggest_int('n_estimators',10,80,step=10),\n",
    "        \"reg_lambda\": trial.suggest_float(\"reg_lambda\", 1e-8, 10.0, log=True),\n",
    "        \"num_leaves\": trial.suggest_int(\"num_leaves\", 5, 25),\n",
    "        'min_data_in_leaf': trial.suggest_int('min_data_in_leaf',400,2400,step=400),\n",
    "        'learning_rate': trial.suggest_float('learning_rate',0.02,0.2,step=0.02)\n",
    "    }\n",
    "    \n",
    "    gb_clf = LGBMClassifier(**params)\n",
    "    gbm = gb_clf.fit(train,labels)\n",
    "    preds = gbm.predict(val)\n",
    "    profit = (preds*val_rets).sum()\n",
    "    return profit\n"
   ]
  },
  {
   "cell_type": "code",
   "execution_count": null,
   "id": "a769c00aff194945",
   "metadata": {
    "ExecuteTime": {
     "start_time": "2024-03-04T01:11:30.760091Z"
    },
    "is_executing": true
   },
   "outputs": [
    {
     "name": "stderr",
     "output_type": "stream",
     "text": [
      "[I 2024-03-03 19:11:30,761] A new study created in memory with name: no-name-0f5e0f97-8249-4b71-9e88-841c5844779a\n"
     ]
    }
   ],
   "source": [
    "optimal_hyperparameters = []\n",
    "for i in range(len(start_dates) - 1):\n",
    "    study = optuna.create_study(direction=\"maximize\")\n",
    "\n",
    "    study.optimize(partial(objective,\n",
    "                           train=training_data[i],\n",
    "                           labels=training_labels[i],\n",
    "                           val=valid_data[i],\n",
    "                           val_labels=valid_labels[i],\n",
    "                           val_rets=valid_frames[i]['next_period_return']), n_trials=25, n_jobs=-1)\n",
    "\n",
    "    optimal_hyperparameters.append(study.best_params)\n",
    "    print(study.best_params)"
   ]
  },
  {
   "cell_type": "code",
   "execution_count": null,
   "id": "6f1f96beb2ea5777",
   "metadata": {
    "is_executing": true
   },
   "outputs": [],
   "source": [
    "with open(r'optimal_hyperparameters_gb_01.pkl', 'wb') as f:\n",
    "    pickle.dump(optimal_hyperparameters, f)\n",
    "with open(r'optimal_hyperparameters_gb_01.pkl', 'rb') as f:\n",
    "    optimal_hyperparameters = cPickle.load(f)\n",
    "classifiers = []\n",
    "for hyp_par in optimal_hyperparameters:\n",
    "    gb_clf = LGBMClassifier(**hyp_par)\n",
    "    classifiers.append(gb_clf)\n",
    "for i in range(len(start_dates) - 1):\n",
    "    classifiers[i].fit(training_data[i], training_labels[i])\n",
    "with open(r'classifiers_gb_clf_01.pkl', 'wb') as f:\n",
    "    pickle.dump(classifiers, f)\n",
    "with open(r'classifiers_gb_clf_01.pkl', 'rb') as f:\n",
    "    classifiers = cPickle.load(f)"
   ]
  },
  {
   "cell_type": "code",
   "execution_count": null,
   "id": "b8682a7e0f4245d2",
   "metadata": {
    "is_executing": true
   },
   "outputs": [],
   "source": [
    "scalers = [StandardScaler() for i in range(len(start_dates)-1)]\n",
    "           \n",
    "opt_training_data = [\n",
    "    pd.DataFrame(scalers[i].fit_transform(training_frames[i][selected_features_GB].values), columns=selected_features_GB) for i\n",
    "    in range(len(start_dates) - 1)]\n",
    "opt_valid_data = [\n",
    "    pd.DataFrame(scalers[i].fit_transform(training_frames[i][selected_features_GB].values), columns=selected_features_GB) for i\n",
    "    in range(len(start_dates) - 1)]\n",
    "opt_test_data = [pd.DataFrame(scalers[i].transform(test_frames[i][selected_features_GB].values), columns=selected_features_GB)\n",
    "                 for i in range(len(start_dates) - 1)]"
   ]
  },
  {
   "cell_type": "code",
   "execution_count": null,
   "id": "8483df64dda9861",
   "metadata": {
    "is_executing": true
   },
   "outputs": [],
   "source": [
    "x = [1]\n",
    "ret = []\n",
    "\n",
    "for i in range(len(start_dates)-1):\n",
    "        \n",
    "        classifiers[i].fit(opt_training_data[i],training_labels[i])\n",
    "\n",
    "        preds = classifiers[i].predict(opt_test_data[i])\n",
    "        profit_i = (preds*test_frames[i]['next_period_return']).sum()\n",
    "        ret.append(profit_i)\n",
    "        num_names = len(opt_test_data[i])\n",
    "        x.append(x[i] + (x[i]/num_names)*profit_i)"
   ]
  },
  {
   "cell_type": "code",
   "execution_count": null,
   "id": "f85f69eb78f3de7d",
   "metadata": {
    "is_executing": true
   },
   "outputs": [],
   "source": [
    "SPY = pd.read_pickle(r'/Users/zhihongqiu/Downloads/Simon-Chicago/CHICAGO/Machine Learning/course_files_export/Lecture 2/SPY_cum_ret.pkl')\n",
    "SPY = SPY.loc['2004-09-01':'2018-09-30']\n",
    "SPY = SPY.resample('Q').ffill()\n",
    "SPY['spy_cum_ret'] = (SPY['spy_cum_ret'] - SPY['spy_cum_ret'][0] + 1)\n",
    "SPY['strategy'] = x\n",
    "SPY.plot();"
   ]
  },
  {
   "cell_type": "code",
   "execution_count": null,
   "id": "c725a2ddae30fea1",
   "metadata": {
    "is_executing": true
   },
   "outputs": [],
   "source": [
    "calculate_max_drawdown(SPY['strategy'])\n"
   ]
  },
  {
   "cell_type": "code",
   "execution_count": null,
   "id": "22b55b5d3eb5b8d2",
   "metadata": {
    "is_executing": true
   },
   "outputs": [],
   "source": [
    "#this is the PL matrix\n",
    "PL_data = SPY.diff()['strategy'].dropna()\n",
    "PL_data.plot()"
   ]
  },
  {
   "cell_type": "code",
   "execution_count": null,
   "id": "3f2ad786e37b4bcb",
   "metadata": {
    "is_executing": true
   },
   "outputs": [],
   "source": [
    "strategy_mean_ret = (SPY['strategy'] - 1).diff().mean()\n",
    "strategy_std = (SPY['strategy'] - 1).diff().std()\n",
    "strategy_sr = strategy_mean_ret / strategy_std\n",
    "print('Strategy Sharpe Ratio: ', strategy_sr)"
   ]
  },
  {
   "cell_type": "code",
   "execution_count": null,
   "id": "1b0c58879120a601",
   "metadata": {
    "is_executing": true
   },
   "outputs": [],
   "source": [
    "#this is the second strategy which only focus on mdd\n",
    "Strategy_4=SPY['strategy']"
   ]
  },
  {
   "cell_type": "markdown",
   "id": "fac93bc4380bd15d",
   "metadata": {},
   "source": [
    "Q2 - finding best combination"
   ]
  },
  {
   "cell_type": "code",
   "execution_count": null,
   "id": "10ce0953539f31e2",
   "metadata": {
    "is_executing": true
   },
   "outputs": [],
   "source": [
    "#combine the 4 strategy to get the best sharp ratio, notice the first is only about profit, second is mdd, third is only about accuracy, the fourth strategy is just SPY\n",
    "combined_strategy=pd.DataFrame()\n",
    "combined_strategy['strategy_1']=Strategy_1\n",
    "combined_strategy['strategy_2']=Strategy_2\n",
    "combined_strategy['strategy_3']=Strategy_3\n",
    "combined_strategy['strategy_4']=Strategy_4\n",
    "combined_strategy['SPY']=SPY['spy_cum_ret']\n",
    "combined_strategy=combined_strategy.dropna()\n",
    "combined_strategy"
   ]
  },
  {
   "cell_type": "code",
   "execution_count": null,
   "id": "1a7e56d94d09c469",
   "metadata": {
    "is_executing": true
   },
   "outputs": [],
   "source": [
    "import pandas as pd\n",
    "import numpy as np\n",
    "from scipy.optimize import minimize"
   ]
  },
  {
   "cell_type": "code",
   "execution_count": null,
   "id": "596fdb4a5449ce55",
   "metadata": {
    "is_executing": true
   },
   "outputs": [],
   "source": [
    "def sharpe_ratio(weights, returns):\n",
    "    weighted_returns = returns.dot(weights)\n",
    "    mean_return = weighted_returns.mean()\n",
    "    std_return = weighted_returns.std()\n",
    "    sharpe_ratio = mean_return / std_return\n",
    "    return -sharpe_ratio "
   ]
  },
  {
   "cell_type": "code",
   "execution_count": null,
   "id": "59de2260d8b2fd05",
   "metadata": {
    "is_executing": true
   },
   "outputs": [],
   "source": [
    "# Step 2: Initial Guess and Bounds\n",
    "num_assets = 5  # Strategy 1, 2, 3, and SPY\n",
    "initial_guess = np.array([1.0 / num_assets] * num_assets)\n",
    "bounds = tuple((-1, 1) for _ in range(num_assets)) # here I dont want to use really risky strategy"
   ]
  },
  {
   "cell_type": "code",
   "execution_count": null,
   "id": "4ff096c14a839698",
   "metadata": {
    "is_executing": true
   },
   "outputs": [],
   "source": [
    "# Step 3: Constraints\n",
    "constraints = ({'type': 'eq', 'fun': lambda weights: np.sum(weights) - 1})\n"
   ]
  },
  {
   "cell_type": "code",
   "execution_count": null,
   "id": "def6163f8f35eca2",
   "metadata": {
    "is_executing": true
   },
   "outputs": [],
   "source": [
    "# Using daily returns for the optimization\n",
    "daily_returns = (combined_strategy-1).diff().dropna()\n"
   ]
  },
  {
   "cell_type": "code",
   "execution_count": null,
   "id": "38c94be549b41983",
   "metadata": {
    "is_executing": true
   },
   "outputs": [],
   "source": [
    "# Step 4: Run the Optimization\n",
    "opt_results = minimize(sharpe_ratio, initial_guess, args=(daily_returns,), method='SLSQP', bounds=bounds, constraints=constraints)\n",
    "\n",
    "# Display the optimal weights\n",
    "optimal_weights = opt_results.x\n",
    "print('Optimal Weights:', optimal_weights)\n"
   ]
  },
  {
   "cell_type": "code",
   "execution_count": null,
   "id": "d16eb1848ff315bd",
   "metadata": {
    "is_executing": true
   },
   "outputs": [],
   "source": [
    "combined_strategy=combined_strategy*optimal_weights\n",
    "combined_strategy['combined_strategy']=combined_strategy['strategy_1']+combined_strategy['strategy_2']+combined_strategy['strategy_3']+combined_strategy['SPY']\n",
    "combined_strategy['combined_strategy']"
   ]
  },
  {
   "cell_type": "code",
   "execution_count": null,
   "id": "e0a2f17b879a40eb",
   "metadata": {
    "is_executing": true
   },
   "outputs": [],
   "source": [
    "strategy_mean_ret = (combined_strategy['combined_strategy'] - 1).diff().mean()\n",
    "strategy_std = (combined_strategy['combined_strategy'] - 1).diff().std()\n",
    "strategy_sr = strategy_mean_ret / strategy_std\n",
    "print('Combined Strategy Sharpe Ratio: ', strategy_sr)"
   ]
  },
  {
   "cell_type": "code",
   "execution_count": null,
   "id": "722c8d25fd7bb3f",
   "metadata": {
    "is_executing": true
   },
   "outputs": [],
   "source": []
  }
 ],
 "metadata": {
  "kernelspec": {
   "display_name": "Python 3 (ipykernel)",
   "language": "python",
   "name": "python3"
  },
  "language_info": {
   "codemirror_mode": {
    "name": "ipython",
    "version": 3
   },
   "file_extension": ".py",
   "mimetype": "text/x-python",
   "name": "python",
   "nbconvert_exporter": "python",
   "pygments_lexer": "ipython3",
   "version": "3.11.5"
  }
 },
 "nbformat": 4,
 "nbformat_minor": 5
}
